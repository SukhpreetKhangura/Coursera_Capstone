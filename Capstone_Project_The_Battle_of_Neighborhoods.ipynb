{
 "cells": [
  {
   "cell_type": "markdown",
   "metadata": {},
   "source": [
    "# Final Capstone Project\n",
    "\n",
    "# Section 1: Introduction\n",
    "\n",
    "\n",
    "Vegetarians and vegans now account for nearly 10 per cent of Canada’s population, and their increased presence is forcing the restaurant and meat production industries to consider new approaches. \n",
    "\n",
    "According to research from Dalhousie University, there are 2.3 million vegetarians in Canada, up from 900,000 15 years ago. Another 850,000 people consider themselves vegan. Those two numbers add up to 9.4 per cent of the Canadian population. The interested readers could refer to the link below:\n",
    "\n",
    "https://www.ctvnews.ca/canada/more-than-3-million-canadians-vegetarian-or-vegan-study-1.4027606\n",
    "\n",
    "\n",
    "Since the most populated city in Canada is Toronto. It is home to 5,429,524 people. Toronto is the capital of Ontario and located in the east-central region of the country. Nearly half of the population is made up of foreign-born residents. After Miami in the US, this is the second largest percentage of foreign-born residents in the world. Interestingly, no nationality holds the dominant position, making Toronto the most diverse city in the world. Therefore we are going to explore Toronto \n",
    "for our business prospects. The interested readers could refer to the link below:\n",
    "\n",
    "https://www.worldatlas.com/articles/biggest-cities-in-canada.html\n"
   ]
  },
  {
   "cell_type": "markdown",
   "metadata": {},
   "source": [
    "# Section 2:  Business Problem and Interested Community\n",
    "\n",
    "With increasing number of people turing vegetarian and vegan, there is a good scope \n",
    "of opening the Vegetarian/Vegan Restaurant. Based on this we define the following:\n",
    "\n",
    "__Problem__: The aim of this project is to explore the possibility of opening Fruit & Vegetable Stores \n",
    "near Vegetarian/Vegan Restaurants in Canada. \n",
    "\n",
    "__Interested Community__: Food Business Industry\n",
    "\n",
    "1. The results of this project could be of interest to the investors \n",
    "    who wants to invest in a Food Business.      \n",
    "    \n",
    "2. Since the vegetarian/veagn restaurants would provide good retail opportunities for Fruits &    Vegetables Store. Therefore, the results could be of interest to the investors who wants to invest in these stores. \n",
    "\n",
    "3. The Juice Bars are also potential customers for Fruits &    Vegetables Store."
   ]
  },
  {
   "cell_type": "markdown",
   "metadata": {},
   "source": [
    "# Section 3: Data Sources\n",
    "\n",
    "### Toronto neighborhood data: \n",
    "\n",
    "\n",
    "#### Data Source: \n",
    "\n",
    "https://en.wikipedia.org/wiki/List_of_postal_codes_of_Canada:_M\n",
    "\n",
    "#### Description: \n",
    "For the Toronto neighborhood data, a Wikipedia page exists \n",
    "that has all the information we need to explore and cluster the Borough and their neighborhoods in Toronto. \n",
    "\n",
    "\n",
    "### Vegetarian/Vegan restaurants and Juice Bars in each Borough and their neighborhoods of Toronto.\n",
    "\n",
    "#### Data source: \n",
    "Fousquare API https://foursquare.com/\n",
    "\n",
    "#### Description:\n",
    "By using this API we will get all the venues in each neighborhood. We can filter these venues to get explore the possibilities of opening Vegetarian/Vegan restaurants.\n",
    "\n",
    "\n",
    "\n",
    "### Geospatial Coordinates\n",
    "\n",
    "#### Data source: \n",
    "http://cocl.us/Geospatial_data\n",
    "\n",
    "#### Description:\n",
    "\n",
    "To utilize the Foursquare location data, we will get the latitude and the longitude coordinates of each neighbourhood.\n"
   ]
  },
  {
   "cell_type": "markdown",
   "metadata": {},
   "source": [
    "# Section 4: Methodology\n",
    "\n",
    "Before going into details, lets put down some steps:\n",
    "\n",
    "__Data Loading and Extraction__:\n",
    "\n",
    "*Step 1:* Importing all the necessary libraries\n",
    "\n",
    "*Step 2:* Web Scraping using BeautifulSoup:  To obtain information regarding  Postal Code\n",
    "Borough, Neighbors\n",
    "\n",
    "__Data Preprocessing__:\n",
    "\n",
    "*Step 3:* Data Preprocessing and Cleaning: Formatting the text and remove the duplicate and Null entries\n",
    "\n",
    "__Exploratory Data Analysis__:\n",
    "\n",
    "*Step 4:* Obtaining geospatial coordinates: To obtain information regarding Latitudes and Longitudes corresponding to Postal Codes\n",
    "\n",
    "*Step 5:* Using Foilum: To visualize  Leaflet map of Toronto via Folium\n",
    "\n",
    "*Step 6:* Foursqaure API: To obtain the information regarding point of interest in detail. Here we are particulary looking at Vegetarian/ Vegan restaurants and Juice Bars.\n",
    "\n",
    "__Machine Learning Technique__:\n",
    "\n",
    "*Step 7:* K-means Clustering: Here we use unsupervised machine learning techniques known as K-means clustering as the aim of this project is to find the geo-spatial coordinates for\n",
    "Fruits and Vegetables Store.\n"
   ]
  },
  {
   "cell_type": "markdown",
   "metadata": {},
   "source": [
    "## A. Data Loading and Extraction:"
   ]
  },
  {
   "cell_type": "markdown",
   "metadata": {},
   "source": [
    "### Step 1: Importing necessary libraries"
   ]
  },
  {
   "cell_type": "code",
   "execution_count": 1,
   "metadata": {},
   "outputs": [
    {
     "name": "stdout",
     "output_type": "stream",
     "text": [
      "Libraries imported.\n"
     ]
    }
   ],
   "source": [
    "import numpy as np # library to handle data in a vectorized manner\n",
    "from bs4 import BeautifulSoup\n",
    "import pandas as pd # library for data analsysis\n",
    "pd.set_option('display.max_columns', None)\n",
    "pd.set_option('display.max_rows', None)\n",
    "\n",
    "import json # library to handle JSON files\n",
    "\n",
    "#!conda install -c conda-forge geopy --yes # uncomment this line if you haven't completed the Foursquare API lab\n",
    "from geopy.geocoders import Nominatim # convert an address into latitude and longitude values\n",
    "\n",
    "import requests # library to handle requests\n",
    "from pandas.io.json import json_normalize # tranform JSON file into a pandas dataframe\n",
    "\n",
    "# Matplotlib and associated plotting modules\n",
    "import matplotlib.cm as cm\n",
    "import matplotlib.colors as colors\n",
    "import matplotlib.pyplot as plt\n",
    "# import k-means from clustering stage\n",
    "from sklearn.cluster import KMeans\n",
    "\n",
    "#!conda install -c conda-forge folium=0.5.0 --yes # uncomment this line if you haven't completed the Foursquare API lab\n",
    "import folium # map rendering library\n",
    "\n",
    "print('Libraries imported.')"
   ]
  },
  {
   "cell_type": "markdown",
   "metadata": {},
   "source": [
    "### Step 2: Download and Explore Dataset"
   ]
  },
  {
   "cell_type": "markdown",
   "metadata": {},
   "source": [
    "#### Parsing using Beautiful Soup:\n",
    "We will begin with defining the function that will provide us the parsed dataframe."
   ]
  },
  {
   "cell_type": "code",
   "execution_count": 2,
   "metadata": {},
   "outputs": [],
   "source": [
    "def parseData(url_param):\n",
    "    url= url_param\n",
    "    website_url=requests.get(url).text\n",
    "\n",
    "    soup = BeautifulSoup(website_url,'lxml')\n",
    "    M_table = soup.find('table',{'class':'wikitable sortable'})\n",
    "    headers= [header.text for header in M_table.find_all('th')]\n",
    "    headers[-1] = headers[-1].strip() # obtain the dataframe columns   \n",
    "    \n",
    "    rows = []\n",
    "    for row in M_table.find_all('tr'):\n",
    "        rows.append([val.text.encode('utf8').strip().decode(\"utf-8\") for val in row.find_all('td')])\n",
    "        dataFrame = pd.DataFrame(rows[1:], columns=headers) # Remove the None row, can be seen by selecting all rows\n",
    "    \n",
    "    return dataFrame"
   ]
  },
  {
   "cell_type": "markdown",
   "metadata": {},
   "source": [
    "Pass the url as an argument that we we want to Parse"
   ]
  },
  {
   "cell_type": "code",
   "execution_count": 132,
   "metadata": {},
   "outputs": [
    {
     "data": {
      "text/html": [
       "<div>\n",
       "<style scoped>\n",
       "    .dataframe tbody tr th:only-of-type {\n",
       "        vertical-align: middle;\n",
       "    }\n",
       "\n",
       "    .dataframe tbody tr th {\n",
       "        vertical-align: top;\n",
       "    }\n",
       "\n",
       "    .dataframe thead th {\n",
       "        text-align: right;\n",
       "    }\n",
       "</style>\n",
       "<table border=\"1\" class=\"dataframe\">\n",
       "  <thead>\n",
       "    <tr style=\"text-align: right;\">\n",
       "      <th></th>\n",
       "      <th>Postcode</th>\n",
       "      <th>Borough</th>\n",
       "      <th>Neighbourhood</th>\n",
       "    </tr>\n",
       "  </thead>\n",
       "  <tbody>\n",
       "    <tr>\n",
       "      <th>0</th>\n",
       "      <td>M1A</td>\n",
       "      <td>Not assigned</td>\n",
       "      <td>Not assigned</td>\n",
       "    </tr>\n",
       "    <tr>\n",
       "      <th>1</th>\n",
       "      <td>M2A</td>\n",
       "      <td>Not assigned</td>\n",
       "      <td>Not assigned</td>\n",
       "    </tr>\n",
       "    <tr>\n",
       "      <th>2</th>\n",
       "      <td>M3A</td>\n",
       "      <td>North York</td>\n",
       "      <td>Parkwoods</td>\n",
       "    </tr>\n",
       "    <tr>\n",
       "      <th>3</th>\n",
       "      <td>M4A</td>\n",
       "      <td>North York</td>\n",
       "      <td>Victoria Village</td>\n",
       "    </tr>\n",
       "    <tr>\n",
       "      <th>4</th>\n",
       "      <td>M5A</td>\n",
       "      <td>Downtown Toronto</td>\n",
       "      <td>Harbourfront</td>\n",
       "    </tr>\n",
       "    <tr>\n",
       "      <th>5</th>\n",
       "      <td>M6A</td>\n",
       "      <td>North York</td>\n",
       "      <td>Lawrence Heights</td>\n",
       "    </tr>\n",
       "    <tr>\n",
       "      <th>6</th>\n",
       "      <td>M6A</td>\n",
       "      <td>North York</td>\n",
       "      <td>Lawrence Manor</td>\n",
       "    </tr>\n",
       "    <tr>\n",
       "      <th>7</th>\n",
       "      <td>M7A</td>\n",
       "      <td>Downtown Toronto</td>\n",
       "      <td>Queen's Park</td>\n",
       "    </tr>\n",
       "    <tr>\n",
       "      <th>8</th>\n",
       "      <td>M8A</td>\n",
       "      <td>Not assigned</td>\n",
       "      <td>Not assigned</td>\n",
       "    </tr>\n",
       "    <tr>\n",
       "      <th>9</th>\n",
       "      <td>M9A</td>\n",
       "      <td>Etobicoke</td>\n",
       "      <td>Islington Avenue</td>\n",
       "    </tr>\n",
       "  </tbody>\n",
       "</table>\n",
       "</div>"
      ],
      "text/plain": [
       "  Postcode           Borough     Neighbourhood\n",
       "0      M1A      Not assigned      Not assigned\n",
       "1      M2A      Not assigned      Not assigned\n",
       "2      M3A        North York         Parkwoods\n",
       "3      M4A        North York  Victoria Village\n",
       "4      M5A  Downtown Toronto      Harbourfront\n",
       "5      M6A        North York  Lawrence Heights\n",
       "6      M6A        North York    Lawrence Manor\n",
       "7      M7A  Downtown Toronto      Queen's Park\n",
       "8      M8A      Not assigned      Not assigned\n",
       "9      M9A         Etobicoke  Islington Avenue"
      ]
     },
     "execution_count": 132,
     "metadata": {},
     "output_type": "execute_result"
    }
   ],
   "source": [
    "url= 'https://en.wikipedia.org/wiki/List_of_postal_codes_of_Canada:_M'\n",
    "df = parseData(url)\n",
    "df.head(10)"
   ]
  },
  {
   "cell_type": "markdown",
   "metadata": {},
   "source": [
    "Our  dataframe  consist of three columns: PostalCode, Borough, and Neighborhood and it is structured. \n",
    "But it contains Not assigned entries and then certain post codes which are occurring more than once. e.g., M6A. It means our data will require further processing and cleaning which is done in Section below:"
   ]
  },
  {
   "cell_type": "markdown",
   "metadata": {},
   "source": [
    "## B. Data Preprocessing\n",
    "\n",
    "In this Section, we will build a dataframe of the postal code of each neighbourhood along with the borough name and neighbourhood name.\n",
    "\n",
    "### Step 3: Data Preprocessing and Cleaning\n",
    "1. Removing the entries of Borough which  is not assigned.\n",
    "\n",
    "2. Assigning the neighborhood as a  borough, where neighborhood  is Not assigned "
   ]
  },
  {
   "cell_type": "code",
   "execution_count": 4,
   "metadata": {},
   "outputs": [
    {
     "name": "stdout",
     "output_type": "stream",
     "text": [
      "(210, 3)\n"
     ]
    },
    {
     "data": {
      "text/html": [
       "<div>\n",
       "<style scoped>\n",
       "    .dataframe tbody tr th:only-of-type {\n",
       "        vertical-align: middle;\n",
       "    }\n",
       "\n",
       "    .dataframe tbody tr th {\n",
       "        vertical-align: top;\n",
       "    }\n",
       "\n",
       "    .dataframe thead th {\n",
       "        text-align: right;\n",
       "    }\n",
       "</style>\n",
       "<table border=\"1\" class=\"dataframe\">\n",
       "  <thead>\n",
       "    <tr style=\"text-align: right;\">\n",
       "      <th></th>\n",
       "      <th>Postcode</th>\n",
       "      <th>Borough</th>\n",
       "      <th>Neighbourhood</th>\n",
       "    </tr>\n",
       "  </thead>\n",
       "  <tbody>\n",
       "    <tr>\n",
       "      <th>2</th>\n",
       "      <td>M3A</td>\n",
       "      <td>North York</td>\n",
       "      <td>Parkwoods</td>\n",
       "    </tr>\n",
       "    <tr>\n",
       "      <th>3</th>\n",
       "      <td>M4A</td>\n",
       "      <td>North York</td>\n",
       "      <td>Victoria Village</td>\n",
       "    </tr>\n",
       "    <tr>\n",
       "      <th>4</th>\n",
       "      <td>M5A</td>\n",
       "      <td>Downtown Toronto</td>\n",
       "      <td>Harbourfront</td>\n",
       "    </tr>\n",
       "    <tr>\n",
       "      <th>5</th>\n",
       "      <td>M6A</td>\n",
       "      <td>North York</td>\n",
       "      <td>Lawrence Heights</td>\n",
       "    </tr>\n",
       "    <tr>\n",
       "      <th>6</th>\n",
       "      <td>M6A</td>\n",
       "      <td>North York</td>\n",
       "      <td>Lawrence Manor</td>\n",
       "    </tr>\n",
       "  </tbody>\n",
       "</table>\n",
       "</div>"
      ],
      "text/plain": [
       "  Postcode           Borough     Neighbourhood\n",
       "2      M3A        North York         Parkwoods\n",
       "3      M4A        North York  Victoria Village\n",
       "4      M5A  Downtown Toronto      Harbourfront\n",
       "5      M6A        North York  Lawrence Heights\n",
       "6      M6A        North York    Lawrence Manor"
      ]
     },
     "execution_count": 4,
     "metadata": {},
     "output_type": "execute_result"
    }
   ],
   "source": [
    "df['Borough'] = df['Borough'].replace('Not assigned', float('nan'))\n",
    "if df['Borough'] is not None:\n",
    "    df['Neighbourhood'] = df['Neighbourhood'].replace('Not assigned', df['Borough'])  \n",
    "    \n",
    "    \n",
    "df=df.dropna()\n",
    "print(df.shape)\n",
    "df.head() # Check all the Not assigned entries are removed\n"
   ]
  },
  {
   "cell_type": "markdown",
   "metadata": {},
   "source": [
    "####  Grouping by Postcode to remove duplicate entries\n",
    " Additional step: group by Borough for understanding postal code distribution, makes things easier in Part 2 and clustering"
   ]
  },
  {
   "cell_type": "code",
   "execution_count": 5,
   "metadata": {},
   "outputs": [
    {
     "data": {
      "text/html": [
       "<div>\n",
       "<style scoped>\n",
       "    .dataframe tbody tr th:only-of-type {\n",
       "        vertical-align: middle;\n",
       "    }\n",
       "\n",
       "    .dataframe tbody tr th {\n",
       "        vertical-align: top;\n",
       "    }\n",
       "\n",
       "    .dataframe thead th {\n",
       "        text-align: right;\n",
       "    }\n",
       "</style>\n",
       "<table border=\"1\" class=\"dataframe\">\n",
       "  <thead>\n",
       "    <tr style=\"text-align: right;\">\n",
       "      <th></th>\n",
       "      <th>Postcode</th>\n",
       "      <th>Borough</th>\n",
       "      <th>Neighbourhood</th>\n",
       "    </tr>\n",
       "  </thead>\n",
       "  <tbody>\n",
       "    <tr>\n",
       "      <th>0</th>\n",
       "      <td>M1B</td>\n",
       "      <td>Scarborough</td>\n",
       "      <td>Rouge, Malvern</td>\n",
       "    </tr>\n",
       "    <tr>\n",
       "      <th>1</th>\n",
       "      <td>M1C</td>\n",
       "      <td>Scarborough</td>\n",
       "      <td>Highland Creek, Rouge Hill, Port Union</td>\n",
       "    </tr>\n",
       "    <tr>\n",
       "      <th>2</th>\n",
       "      <td>M1E</td>\n",
       "      <td>Scarborough</td>\n",
       "      <td>Guildwood, Morningside, West Hill</td>\n",
       "    </tr>\n",
       "    <tr>\n",
       "      <th>3</th>\n",
       "      <td>M1G</td>\n",
       "      <td>Scarborough</td>\n",
       "      <td>Woburn</td>\n",
       "    </tr>\n",
       "    <tr>\n",
       "      <th>4</th>\n",
       "      <td>M1H</td>\n",
       "      <td>Scarborough</td>\n",
       "      <td>Cedarbrae</td>\n",
       "    </tr>\n",
       "  </tbody>\n",
       "</table>\n",
       "</div>"
      ],
      "text/plain": [
       "  Postcode      Borough                           Neighbourhood\n",
       "0      M1B  Scarborough                          Rouge, Malvern\n",
       "1      M1C  Scarborough  Highland Creek, Rouge Hill, Port Union\n",
       "2      M1E  Scarborough       Guildwood, Morningside, West Hill\n",
       "3      M1G  Scarborough                                  Woburn\n",
       "4      M1H  Scarborough                               Cedarbrae"
      ]
     },
     "execution_count": 5,
     "metadata": {},
     "output_type": "execute_result"
    }
   ],
   "source": [
    "df1=df.groupby(['Postcode','Borough'])['Neighbourhood'].unique()\n",
    "df_uq=df1.to_frame().reset_index()\n",
    "df_uq['Neighbourhood']= df_uq['Neighbourhood'].transform(lambda x: ', '.join(x))\n",
    "\n",
    "df_uq.head()"
   ]
  },
  {
   "cell_type": "markdown",
   "metadata": {},
   "source": [
    "__Findings__: \n",
    "As can be seen now M1C and M1E are combined\n",
    "into one row with the neighborhoods separated with a comma.\n",
    "Now we have unique Postal codes."
   ]
  },
  {
   "cell_type": "markdown",
   "metadata": {},
   "source": [
    "#### Shape of final dataset"
   ]
  },
  {
   "cell_type": "code",
   "execution_count": 6,
   "metadata": {},
   "outputs": [
    {
     "data": {
      "text/plain": [
       "(103, 3)"
      ]
     },
     "execution_count": 6,
     "metadata": {},
     "output_type": "execute_result"
    }
   ],
   "source": [
    "df_uq.shape"
   ]
  },
  {
   "cell_type": "markdown",
   "metadata": {},
   "source": [
    "\n",
    "\n",
    "Now in this Section, in order to utilize the Foursquare location data, we will get the latitude and the longitude coordinates of each neighbourhood."
   ]
  },
  {
   "cell_type": "markdown",
   "metadata": {},
   "source": [
    "## C. Exploratory Data Analysis:\n",
    "\n",
    "In this section we will do analysis if it make sense to choose Toronto as a place for opening Fruits and Vegetable Store. It is always better to do this kind of analysis as without having the insight of Problem in hand , we may end up with a model which may not produce desired results."
   ]
  },
  {
   "cell_type": "markdown",
   "metadata": {},
   "source": [
    "### Step 4:  Geospatial Coordinates\n",
    "\n",
    "Here’s we obtain latitude and longitude:\n",
    "Latitude lines run east-west and are parallel to each other.\n",
    "Longitude lines run north-south.\n"
   ]
  },
  {
   "cell_type": "code",
   "execution_count": 133,
   "metadata": {},
   "outputs": [
    {
     "name": "stdout",
     "output_type": "stream",
     "text": [
      "(103, 3)\n"
     ]
    },
    {
     "data": {
      "text/html": [
       "<div>\n",
       "<style scoped>\n",
       "    .dataframe tbody tr th:only-of-type {\n",
       "        vertical-align: middle;\n",
       "    }\n",
       "\n",
       "    .dataframe tbody tr th {\n",
       "        vertical-align: top;\n",
       "    }\n",
       "\n",
       "    .dataframe thead th {\n",
       "        text-align: right;\n",
       "    }\n",
       "</style>\n",
       "<table border=\"1\" class=\"dataframe\">\n",
       "  <thead>\n",
       "    <tr style=\"text-align: right;\">\n",
       "      <th></th>\n",
       "      <th>Postal Code</th>\n",
       "      <th>Latitude</th>\n",
       "      <th>Longitude</th>\n",
       "    </tr>\n",
       "  </thead>\n",
       "  <tbody>\n",
       "    <tr>\n",
       "      <th>0</th>\n",
       "      <td>M1B</td>\n",
       "      <td>43.806686</td>\n",
       "      <td>-79.194353</td>\n",
       "    </tr>\n",
       "    <tr>\n",
       "      <th>1</th>\n",
       "      <td>M1C</td>\n",
       "      <td>43.784535</td>\n",
       "      <td>-79.160497</td>\n",
       "    </tr>\n",
       "    <tr>\n",
       "      <th>2</th>\n",
       "      <td>M1E</td>\n",
       "      <td>43.763573</td>\n",
       "      <td>-79.188711</td>\n",
       "    </tr>\n",
       "    <tr>\n",
       "      <th>3</th>\n",
       "      <td>M1G</td>\n",
       "      <td>43.770992</td>\n",
       "      <td>-79.216917</td>\n",
       "    </tr>\n",
       "    <tr>\n",
       "      <th>4</th>\n",
       "      <td>M1H</td>\n",
       "      <td>43.773136</td>\n",
       "      <td>-79.239476</td>\n",
       "    </tr>\n",
       "  </tbody>\n",
       "</table>\n",
       "</div>"
      ],
      "text/plain": [
       "  Postal Code   Latitude  Longitude\n",
       "0         M1B  43.806686 -79.194353\n",
       "1         M1C  43.784535 -79.160497\n",
       "2         M1E  43.763573 -79.188711\n",
       "3         M1G  43.770992 -79.216917\n",
       "4         M1H  43.773136 -79.239476"
      ]
     },
     "execution_count": 133,
     "metadata": {},
     "output_type": "execute_result"
    }
   ],
   "source": [
    "url = 'http://cocl.us/Geospatial_data'\n",
    "df_geo=pd.read_csv(url)\n",
    "\n",
    "\n",
    "#!wget -q http://cocl.us/Geospatial_data\n",
    "\n",
    "#df_geo=pd.read_csv('Geospatial_Coordinates.csv')\n",
    "\n",
    "\n",
    "print(df_geo.shape)  #to check if the spatial coordinates matches our output datashape\n",
    "df_geo.head()"
   ]
  },
  {
   "cell_type": "markdown",
   "metadata": {},
   "source": [
    "#### Now we merge the data frame of geospatial coordinates with that of our cleaned dataframe."
   ]
  },
  {
   "cell_type": "code",
   "execution_count": 8,
   "metadata": {},
   "outputs": [
    {
     "data": {
      "text/html": [
       "<div>\n",
       "<style scoped>\n",
       "    .dataframe tbody tr th:only-of-type {\n",
       "        vertical-align: middle;\n",
       "    }\n",
       "\n",
       "    .dataframe tbody tr th {\n",
       "        vertical-align: top;\n",
       "    }\n",
       "\n",
       "    .dataframe thead th {\n",
       "        text-align: right;\n",
       "    }\n",
       "</style>\n",
       "<table border=\"1\" class=\"dataframe\">\n",
       "  <thead>\n",
       "    <tr style=\"text-align: right;\">\n",
       "      <th></th>\n",
       "      <th>Postcode</th>\n",
       "      <th>Borough</th>\n",
       "      <th>Neighbourhood</th>\n",
       "      <th>Latitude</th>\n",
       "      <th>Longitude</th>\n",
       "    </tr>\n",
       "  </thead>\n",
       "  <tbody>\n",
       "    <tr>\n",
       "      <th>0</th>\n",
       "      <td>M1B</td>\n",
       "      <td>Scarborough</td>\n",
       "      <td>Rouge, Malvern</td>\n",
       "      <td>43.806686</td>\n",
       "      <td>-79.194353</td>\n",
       "    </tr>\n",
       "    <tr>\n",
       "      <th>1</th>\n",
       "      <td>M1C</td>\n",
       "      <td>Scarborough</td>\n",
       "      <td>Highland Creek, Rouge Hill, Port Union</td>\n",
       "      <td>43.784535</td>\n",
       "      <td>-79.160497</td>\n",
       "    </tr>\n",
       "    <tr>\n",
       "      <th>2</th>\n",
       "      <td>M1E</td>\n",
       "      <td>Scarborough</td>\n",
       "      <td>Guildwood, Morningside, West Hill</td>\n",
       "      <td>43.763573</td>\n",
       "      <td>-79.188711</td>\n",
       "    </tr>\n",
       "    <tr>\n",
       "      <th>3</th>\n",
       "      <td>M1G</td>\n",
       "      <td>Scarborough</td>\n",
       "      <td>Woburn</td>\n",
       "      <td>43.770992</td>\n",
       "      <td>-79.216917</td>\n",
       "    </tr>\n",
       "    <tr>\n",
       "      <th>4</th>\n",
       "      <td>M1H</td>\n",
       "      <td>Scarborough</td>\n",
       "      <td>Cedarbrae</td>\n",
       "      <td>43.773136</td>\n",
       "      <td>-79.239476</td>\n",
       "    </tr>\n",
       "  </tbody>\n",
       "</table>\n",
       "</div>"
      ],
      "text/plain": [
       "  Postcode      Borough                           Neighbourhood   Latitude  \\\n",
       "0      M1B  Scarborough                          Rouge, Malvern  43.806686   \n",
       "1      M1C  Scarborough  Highland Creek, Rouge Hill, Port Union  43.784535   \n",
       "2      M1E  Scarborough       Guildwood, Morningside, West Hill  43.763573   \n",
       "3      M1G  Scarborough                                  Woburn  43.770992   \n",
       "4      M1H  Scarborough                               Cedarbrae  43.773136   \n",
       "\n",
       "   Longitude  \n",
       "0 -79.194353  \n",
       "1 -79.160497  \n",
       "2 -79.188711  \n",
       "3 -79.216917  \n",
       "4 -79.239476  "
      ]
     },
     "execution_count": 8,
     "metadata": {},
     "output_type": "execute_result"
    }
   ],
   "source": [
    "if df_uq['Postcode'].equals(df_geo['Postal Code']):  # Cross check if both df_geo and df_uq are equal\n",
    "    df_uq['Latitude']=df_geo['Latitude']\n",
    "    df_uq['Longitude']=df_geo['Longitude']\n",
    "\n",
    "df_uq.head()"
   ]
  },
  {
   "cell_type": "markdown",
   "metadata": {},
   "source": [
    "Lets try to find out the neighbors per Borough."
   ]
  },
  {
   "cell_type": "code",
   "execution_count": 9,
   "metadata": {},
   "outputs": [
    {
     "data": {
      "image/png": "[encoded data removed]",
      "text/plain": [
       "<Figure size 720x360 with 1 Axes>"
      ]
     },
     "metadata": {
      "needs_background": "light"
     },
     "output_type": "display_data"
    }
   ],
   "source": [
    "clr = \"dodgerblue\"\n",
    "df_uq.groupby('Borough')['Neighbourhood'].count().plot.bar(figsize=(10,5), color=clr)\n",
    "plt.title('Neighborhoods per Borough: Canada', fontsize = 20)\n",
    "plt.xlabel('Borough', fontsize = 15)\n",
    "plt.ylabel('No. Neighborhoods',fontsize = 15)\n",
    "plt.xticks(rotation = 90)\n",
    "plt.show()"
   ]
  },
  {
   "cell_type": "markdown",
   "metadata": {},
   "source": [
    "__Findings__:\n",
    "As can be seen in the above Graph, if we combine different Borough of 'Toronto', \n",
    "the number of neighbors are going to be highest. Now, we will explore and cluster the neighbourhood of Toronto further."
   ]
  },
  {
   "cell_type": "markdown",
   "metadata": {},
   "source": [
    "####  Filter the boroughs that contain the word Toronto "
   ]
  },
  {
   "cell_type": "code",
   "execution_count": 52,
   "metadata": {},
   "outputs": [
    {
     "name": "stdout",
     "output_type": "stream",
     "text": [
      "(39, 5)\n"
     ]
    },
    {
     "data": {
      "text/html": [
       "<div>\n",
       "<style scoped>\n",
       "    .dataframe tbody tr th:only-of-type {\n",
       "        vertical-align: middle;\n",
       "    }\n",
       "\n",
       "    .dataframe tbody tr th {\n",
       "        vertical-align: top;\n",
       "    }\n",
       "\n",
       "    .dataframe thead th {\n",
       "        text-align: right;\n",
       "    }\n",
       "</style>\n",
       "<table border=\"1\" class=\"dataframe\">\n",
       "  <thead>\n",
       "    <tr style=\"text-align: right;\">\n",
       "      <th></th>\n",
       "      <th>Postcode</th>\n",
       "      <th>Borough</th>\n",
       "      <th>Neighbourhood</th>\n",
       "      <th>Latitude</th>\n",
       "      <th>Longitude</th>\n",
       "    </tr>\n",
       "  </thead>\n",
       "  <tbody>\n",
       "    <tr>\n",
       "      <th>0</th>\n",
       "      <td>M4E</td>\n",
       "      <td>East Toronto</td>\n",
       "      <td>The Beaches</td>\n",
       "      <td>43.676357</td>\n",
       "      <td>-79.293031</td>\n",
       "    </tr>\n",
       "    <tr>\n",
       "      <th>1</th>\n",
       "      <td>M4K</td>\n",
       "      <td>East Toronto</td>\n",
       "      <td>The Danforth West, Riverdale</td>\n",
       "      <td>43.679557</td>\n",
       "      <td>-79.352188</td>\n",
       "    </tr>\n",
       "    <tr>\n",
       "      <th>2</th>\n",
       "      <td>M4L</td>\n",
       "      <td>East Toronto</td>\n",
       "      <td>The Beaches West, India Bazaar</td>\n",
       "      <td>43.668999</td>\n",
       "      <td>-79.315572</td>\n",
       "    </tr>\n",
       "    <tr>\n",
       "      <th>3</th>\n",
       "      <td>M4M</td>\n",
       "      <td>East Toronto</td>\n",
       "      <td>Studio District</td>\n",
       "      <td>43.659526</td>\n",
       "      <td>-79.340923</td>\n",
       "    </tr>\n",
       "    <tr>\n",
       "      <th>4</th>\n",
       "      <td>M4N</td>\n",
       "      <td>Central Toronto</td>\n",
       "      <td>Lawrence Park</td>\n",
       "      <td>43.728020</td>\n",
       "      <td>-79.388790</td>\n",
       "    </tr>\n",
       "  </tbody>\n",
       "</table>\n",
       "</div>"
      ],
      "text/plain": [
       "  Postcode          Borough                   Neighbourhood   Latitude  \\\n",
       "0      M4E     East Toronto                     The Beaches  43.676357   \n",
       "1      M4K     East Toronto    The Danforth West, Riverdale  43.679557   \n",
       "2      M4L     East Toronto  The Beaches West, India Bazaar  43.668999   \n",
       "3      M4M     East Toronto                 Studio District  43.659526   \n",
       "4      M4N  Central Toronto                   Lawrence Park  43.728020   \n",
       "\n",
       "   Longitude  \n",
       "0 -79.293031  \n",
       "1 -79.352188  \n",
       "2 -79.315572  \n",
       "3 -79.340923  \n",
       "4 -79.388790  "
      ]
     },
     "execution_count": 52,
     "metadata": {},
     "output_type": "execute_result"
    }
   ],
   "source": [
    "tr_df=df_uq[df_uq['Borough'].str.contains('Toronto')]\n",
    "\n",
    "tr_df.reset_index(drop=True, inplace=True)\n",
    "print(tr_df.shape)\n",
    "    \n",
    "tr_df.head()\n",
    "\n"
   ]
  },
  {
   "cell_type": "markdown",
   "metadata": {},
   "source": [
    "####  Use geopy library to get the latitude and longitude values of Toronto.\n",
    "__Note__ :This step is optional to see how geopy works.\n",
    "Latitude and longitude can be obtained from the df_tr in the above step"
   ]
  },
  {
   "cell_type": "markdown",
   "metadata": {},
   "source": [
    "In order to define an instance of the geocoder, we need to define a user_agent. \n",
    "We will name our agent <em>tr_explorer</em>, as shown below."
   ]
  },
  {
   "cell_type": "code",
   "execution_count": 11,
   "metadata": {},
   "outputs": [
    {
     "name": "stdout",
     "output_type": "stream",
     "text": [
      "The geograpical coordinate of Toronto are 43.653963, -79.387207.\n"
     ]
    }
   ],
   "source": [
    "address = 'Toronto'\n",
    "\n",
    "geolocator = Nominatim(user_agent=\"tr_explorer\")\n",
    "location = geolocator.geocode(address)\n",
    "latitude = location.latitude\n",
    "longitude = location.longitude\n",
    "print('The geograpical coordinate of Toronto are {}, {}.'.format(latitude, longitude))"
   ]
  },
  {
   "cell_type": "markdown",
   "metadata": {},
   "source": [
    "### Step 5: Using Folium:\n",
    "\n",
    "\n",
    "\n",
    "Here we use Folium  that builds on the data wrangling strengths of the Python ecosystem and the mapping strengths of the Leaflet.js library. \n",
    "\n",
    "In this section we will manipulate our data in Python, then visualize it in on a Leaflet map via Folium. In other words, we will create a map of Toronto with neighborhoods superimposed on top."
   ]
  },
  {
   "cell_type": "code",
   "execution_count": 12,
   "metadata": {},
   "outputs": [
    {
     "data": {
      "text/html": [
       "<div style=\"width:100%;\"><div style=\"position:relative;width:100%;height:0;padding-bottom:60%;\"><iframe src=\"about:blank\" style=\"position:absolute;width:100%;height:100%;left:0;top:0;border:none !important;\" data-html=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 onload=\"this.contentDocument.open();this.contentDocument.write(atob(this.getAttribute('data-html')));this.contentDocument.close();\" allowfullscreen webkitallowfullscreen mozallowfullscreen></iframe></div></div>"
      ],
      "text/plain": [
       "<folium.folium.Map at 0x1db1811f518>"
      ]
     },
     "execution_count": 12,
     "metadata": {},
     "output_type": "execute_result"
    }
   ],
   "source": [
    "# create map of Toronto using latitude and longitude values\n",
    "map_toronto = folium.Map(location=[latitude, longitude], zoom_start=10)\n",
    "\n",
    "# add markers to map\n",
    "for lat, lng, borough, neighbourhood in zip(tr_df['Latitude'], tr_df['Longitude'],\n",
    "                                           tr_df['Borough'], tr_df['Neighbourhood']):\n",
    "    label = '{}, {}'.format(neighbourhood, borough)\n",
    "    label = folium.Popup(label, parse_html=True)\n",
    "    folium.CircleMarker(\n",
    "        [lat, lng],\n",
    "        radius=5,\n",
    "        popup=label,\n",
    "        color='blue',\n",
    "        fill=True,\n",
    "        fill_color='#3186cc',\n",
    "        fill_opacity=0.7,\n",
    "        parse_html=False).add_to(map_toronto)  \n",
    "    \n",
    "map_toronto"
   ]
  },
  {
   "cell_type": "markdown",
   "metadata": {},
   "source": [
    "### Step 6: Foursqaure API:\n",
    "By now we have built a dataframe of the postal code of each neighbourhood along with the borough name and neighbourhood name. In order to utilize the Foursquare location data, we have also got the latitude and the longitude coordinates of each neighbourhood for Toronto.\n",
    "Next, we are going to  start utilizing the Foursquare API to explore the neighbourhoods and segment them based on vegetarain/vegan restaurants and Juice Bars."
   ]
  },
  {
   "cell_type": "code",
   "execution_count": 13,
   "metadata": {},
   "outputs": [
    {
     "name": "stdout",
     "output_type": "stream",
     "text": [
      "Your credentails:\n",
      "CLIENT_ID: L3ASOH21PLOK0FAGU0ENKSBLOELN1ZQLTCRT3ZB5NZPJXPEF\n",
      "CLIENT_SECRET:NC4LIKESX3AKSTLTTBQRQEVCESUA1ZCTID3KLZ5XFWAHTOWX\n"
     ]
    }
   ],
   "source": [
    "CLIENT_ID = 'L3ASOH21PLOK0FAGU0ENKSBLOELN1ZQLTCRT3ZB5NZPJXPEF' # your Foursquare ID\n",
    "CLIENT_SECRET = 'NC4LIKESX3AKSTLTTBQRQEVCESUA1ZCTID3KLZ5XFWAHTOWX' # your Foursquare Secret\n",
    "VERSION = '20180605' # Foursquare API version\n",
    "\n",
    "print('Your credentails:')\n",
    "print('CLIENT_ID: ' + CLIENT_ID)\n",
    "print('CLIENT_SECRET:' + CLIENT_SECRET)\n",
    "\n",
    "LIMIT = 100 "
   ]
  },
  {
   "cell_type": "markdown",
   "metadata": {},
   "source": [
    "Let's create a function to explore the neighbourhoods in Toronto"
   ]
  },
  {
   "cell_type": "code",
   "execution_count": 23,
   "metadata": {},
   "outputs": [],
   "source": [
    "def getNearbyVenues(names, latitudes, longitudes, radius=500):\n",
    "    \n",
    "    venues_list=[]\n",
    "    for name, lat, lng in zip(names, latitudes, longitudes):\n",
    "        print(name)\n",
    "            \n",
    "        # create the API request URL\n",
    "        url = 'https://api.foursquare.com/v2/venues/explore?&client_id={}&client_secret={}&v={}&ll={},{}&radius={}&limit={}'.format(\n",
    "            CLIENT_ID, \n",
    "            CLIENT_SECRET, \n",
    "            VERSION, \n",
    "            lat, \n",
    "            lng, \n",
    "            radius, \n",
    "            LIMIT)\n",
    "            \n",
    "        # make the GET request\n",
    "        results = requests.get(url).json()[\"response\"]['groups'][0]['items']\n",
    "        \n",
    "        # return only relevant information for each nearby venue\n",
    "        venues_list.append([(\n",
    "            name, \n",
    "            lat, \n",
    "            lng, \n",
    "            v['venue']['name'], \n",
    "            v['venue']['location']['lat'], \n",
    "            v['venue']['location']['lng'],  \n",
    "            v['venue']['categories'][0]['name']) for v in results])\n",
    "\n",
    "    nearby_venues = pd.DataFrame([item for venue_list in venues_list for item in venue_list])\n",
    "    nearby_venues.columns = ['Neighbourhood', \n",
    "                  'Neighbourhood Latitude', \n",
    "                  'Neighbourhood Longitude', \n",
    "                  'Venue', \n",
    "                  'Venue Latitude', \n",
    "                  'Venue Longitude', \n",
    "                  'Venue Category']\n",
    "    \n",
    "    return(nearby_venues)\n",
    "\n",
    "\n",
    "\n",
    "def getVenueDetails(venue_id):\n",
    "    #url to fetch data from foursquare api\n",
    "    url = 'https://api.foursquare.com/v2/venues/{}?&client_id={}&client_secret={}&v={}'.format(\n",
    "            venue_id,\n",
    "            CLIENT_ID, \n",
    "            CLIENT_SECRET, \n",
    "            VERSION)\n",
    "    # get all the data\n",
    "    results = requests.get(url).json()\n",
    "    print(results)\n",
    "    venue_data=results['response']['venue']\n",
    "    venue_details=[]\n",
    "    try:\n",
    "        venue_id=venue_data['id']\n",
    "        venue_name=venue_data['name']\n",
    "        venue_likes=venue_data['likes']['count']\n",
    "        venue_rating=venue_data['rating']\n",
    "        venue_tips=venue_data['tips']['count']\n",
    "        venue_details.append([venue_id,venue_name,venue_likes,venue_rating,venue_tips])\n",
    "    except KeyError:\n",
    "        pass\n",
    "    column_names=['ID','Name','Likes','Rating','Tips']\n",
    "    df_details = pd.DataFrame(venue_details,columns=column_names)\n",
    "    return df_details\n",
    "\n",
    "\n",
    "\n",
    "def getVenues(lat,lng):\n",
    "    #set variables\n",
    "    radius=400\n",
    "    LIMIT=100\n",
    "    #url to fetch data from foursquare api\n",
    "    url = 'https://api.foursquare.com/v2/venues/explore?&client_id={}&client_secret={}&v={}&ll={},{}&radius={}&limit={}'.format(\n",
    "            CLIENT_ID, \n",
    "            CLIENT_SECRET, \n",
    "            VERSION, \n",
    "            lat, \n",
    "            lng, \n",
    "            radius, \n",
    "            LIMIT)\n",
    "    # get all the data\n",
    "    results = requests.get(url).json()\n",
    "    venue_data=results[\"response\"]['groups'][0]['items']\n",
    "    venue_details=[]\n",
    "    for row in venue_data:\n",
    "        try:\n",
    "            venue_id=row['venue']['id']\n",
    "            venue_name=row['venue']['name']\n",
    "            venue_category=row['venue']['categories'][0]['name']\n",
    "            venue_details.append([venue_id,venue_name,venue_category])\n",
    "        except KeyError:\n",
    "            pass\n",
    "    column_names=['ID','Name','Category']\n",
    "    df_venues = pd.DataFrame(venue_details,columns=column_names)\n",
    "    return df_venues\n"
   ]
  },
  {
   "cell_type": "markdown",
   "metadata": {},
   "source": [
    "__Note__: Run the code below only once as we have limited number of calls"
   ]
  },
  {
   "cell_type": "code",
   "execution_count": 15,
   "metadata": {},
   "outputs": [],
   "source": [
    "# Only run it once because of limited calls allowed.          \n",
    "\n",
    "#tr_venues = getNearbyVenues(names=tr_df['Neighbourhood'],\n",
    "                                   #latitudes=tr_df['Latitude'],\n",
    "                                   #longitudes=tr_df['Longitude']\n",
    "                                  #)\n",
    "                          \n",
    "#tr_venues.to_csv('tr_venues.csv')"
   ]
  },
  {
   "cell_type": "markdown",
   "metadata": {},
   "source": [
    "Let's check the size of the resulting dataframe."
   ]
  },
  {
   "cell_type": "code",
   "execution_count": 17,
   "metadata": {},
   "outputs": [
    {
     "name": "stdout",
     "output_type": "stream",
     "text": [
      "(1715, 7)\n"
     ]
    },
    {
     "data": {
      "text/html": [
       "<div>\n",
       "<style scoped>\n",
       "    .dataframe tbody tr th:only-of-type {\n",
       "        vertical-align: middle;\n",
       "    }\n",
       "\n",
       "    .dataframe tbody tr th {\n",
       "        vertical-align: top;\n",
       "    }\n",
       "\n",
       "    .dataframe thead th {\n",
       "        text-align: right;\n",
       "    }\n",
       "</style>\n",
       "<table border=\"1\" class=\"dataframe\">\n",
       "  <thead>\n",
       "    <tr style=\"text-align: right;\">\n",
       "      <th></th>\n",
       "      <th>Neighbourhood</th>\n",
       "      <th>Neighbourhood Latitude</th>\n",
       "      <th>Neighbourhood Longitude</th>\n",
       "      <th>Venue</th>\n",
       "      <th>Venue Latitude</th>\n",
       "      <th>Venue Longitude</th>\n",
       "      <th>Venue Category</th>\n",
       "    </tr>\n",
       "  </thead>\n",
       "  <tbody>\n",
       "    <tr>\n",
       "      <th>0</th>\n",
       "      <td>The Beaches</td>\n",
       "      <td>43.676357</td>\n",
       "      <td>-79.293031</td>\n",
       "      <td>Glen Manor Ravine</td>\n",
       "      <td>43.676821</td>\n",
       "      <td>-79.293942</td>\n",
       "      <td>Trail</td>\n",
       "    </tr>\n",
       "    <tr>\n",
       "      <th>1</th>\n",
       "      <td>The Beaches</td>\n",
       "      <td>43.676357</td>\n",
       "      <td>-79.293031</td>\n",
       "      <td>The Big Carrot Natural Food Market</td>\n",
       "      <td>43.678879</td>\n",
       "      <td>-79.297734</td>\n",
       "      <td>Health Food Store</td>\n",
       "    </tr>\n",
       "    <tr>\n",
       "      <th>2</th>\n",
       "      <td>The Beaches</td>\n",
       "      <td>43.676357</td>\n",
       "      <td>-79.293031</td>\n",
       "      <td>Grover Pub and Grub</td>\n",
       "      <td>43.679181</td>\n",
       "      <td>-79.297215</td>\n",
       "      <td>Pub</td>\n",
       "    </tr>\n",
       "    <tr>\n",
       "      <th>3</th>\n",
       "      <td>The Beaches</td>\n",
       "      <td>43.676357</td>\n",
       "      <td>-79.293031</td>\n",
       "      <td>Upper Beaches</td>\n",
       "      <td>43.680563</td>\n",
       "      <td>-79.292869</td>\n",
       "      <td>Neighborhood</td>\n",
       "    </tr>\n",
       "    <tr>\n",
       "      <th>4</th>\n",
       "      <td>The Danforth West, Riverdale</td>\n",
       "      <td>43.679557</td>\n",
       "      <td>-79.352188</td>\n",
       "      <td>Pantheon</td>\n",
       "      <td>43.677621</td>\n",
       "      <td>-79.351434</td>\n",
       "      <td>Greek Restaurant</td>\n",
       "    </tr>\n",
       "  </tbody>\n",
       "</table>\n",
       "</div>"
      ],
      "text/plain": [
       "                  Neighbourhood  Neighbourhood Latitude  \\\n",
       "0                   The Beaches               43.676357   \n",
       "1                   The Beaches               43.676357   \n",
       "2                   The Beaches               43.676357   \n",
       "3                   The Beaches               43.676357   \n",
       "4  The Danforth West, Riverdale               43.679557   \n",
       "\n",
       "   Neighbourhood Longitude                               Venue  \\\n",
       "0               -79.293031                   Glen Manor Ravine   \n",
       "1               -79.293031  The Big Carrot Natural Food Market   \n",
       "2               -79.293031                 Grover Pub and Grub   \n",
       "3               -79.293031                       Upper Beaches   \n",
       "4               -79.352188                            Pantheon   \n",
       "\n",
       "   Venue Latitude  Venue Longitude     Venue Category  \n",
       "0       43.676821       -79.293942              Trail  \n",
       "1       43.678879       -79.297734  Health Food Store  \n",
       "2       43.679181       -79.297215                Pub  \n",
       "3       43.680563       -79.292869       Neighborhood  \n",
       "4       43.677621       -79.351434   Greek Restaurant  "
      ]
     },
     "execution_count": 17,
     "metadata": {},
     "output_type": "execute_result"
    }
   ],
   "source": [
    "tr_venues= pd.read_csv('tr_venues.csv', index_col=0)\n",
    "tr_venues.reset_index(drop=True, inplace=True)\n",
    "print(tr_venues.shape)\n",
    "tr_venues.head()"
   ]
  },
  {
   "cell_type": "markdown",
   "metadata": {},
   "source": [
    "We obtained the information about Venue, its latitude, longitude and category as shown above. \n",
    "#### Now,  let's find out the unique categories of venues can be curated from all the returned venues"
   ]
  },
  {
   "cell_type": "code",
   "execution_count": 124,
   "metadata": {},
   "outputs": [
    {
     "name": "stdout",
     "output_type": "stream",
     "text": [
      "There are 233 uniques categories.\n"
     ]
    }
   ],
   "source": [
    "print('There are {} uniques categories.'.format(len(tr_venues['Venue Category'].unique())))\n",
    "\n",
    "#tr_venues['Venue Category'].unique()"
   ]
  },
  {
   "cell_type": "markdown",
   "metadata": {},
   "source": [
    "We have find out the unique categories of venues that can be curated from all the returned venues. The categories which are of interest to us are:\n",
    "\n",
    "1. Vegetarian / Vegan Restaurant\n",
    "2. Juice Bars\n",
    "\n",
    "\n",
    "\n",
    "Lets explore them in detail one by one.\n",
    "We will look for the Vegetarian restaurants in that area."
   ]
  },
  {
   "cell_type": "markdown",
   "metadata": {},
   "source": [
    "#### Get details about the vegetarian Restaurant"
   ]
  },
  {
   "cell_type": "code",
   "execution_count": 24,
   "metadata": {},
   "outputs": [],
   "source": [
    "column_names=['Postcode', 'Borough', 'Neighbourhood', 'ID','Name', 'Latitude', 'Longitude']\n",
    "veg_rest=pd.DataFrame(columns=column_names)\n",
    "count=1\n",
    "for row in tr_df.values.tolist():\n",
    "    Postcode, Borough, Neighbourhood, Latitude, Longitude=row\n",
    "    venues = getVenues(Latitude,Longitude) # Avoid running it twice will cost calls\n",
    "    veg_resturants=venues[venues['Category']=='Vegetarian / Vegan Restaurant']   \n",
    "    #print('(',count,'/',len(tr_df),')','Vegetarian Resturants in '+Neighbourhood+', '+Borough+':'+str(len(veg_resturants)))\n",
    "    #print(row)\n",
    "    for resturant_detail in veg_resturants.values.tolist():\n",
    "        id, name , category=resturant_detail\n",
    "        veg_rest = veg_rest.append({ 'Postcode': Postcode,           \n",
    "                                                'Borough': Borough,\n",
    "                                                'Neighbourhood': Neighbourhood, \n",
    "                                                'ID': id,\n",
    "                                                'Name' : name,\n",
    "                                                'Latitude':  Latitude,\n",
    "                                                'Longitude': Longitude\n",
    "                                               }, ignore_index=True)\n",
    "    count+=1"
   ]
  },
  {
   "cell_type": "markdown",
   "metadata": {},
   "source": [
    "#### Save the obtained results from Foursquare to csv format. \n",
    "This step is important as we have limited number of calls that we can  make."
   ]
  },
  {
   "cell_type": "code",
   "execution_count": 25,
   "metadata": {},
   "outputs": [
    {
     "data": {
      "text/html": [
       "<div>\n",
       "<style scoped>\n",
       "    .dataframe tbody tr th:only-of-type {\n",
       "        vertical-align: middle;\n",
       "    }\n",
       "\n",
       "    .dataframe tbody tr th {\n",
       "        vertical-align: top;\n",
       "    }\n",
       "\n",
       "    .dataframe thead th {\n",
       "        text-align: right;\n",
       "    }\n",
       "</style>\n",
       "<table border=\"1\" class=\"dataframe\">\n",
       "  <thead>\n",
       "    <tr style=\"text-align: right;\">\n",
       "      <th></th>\n",
       "      <th>Postcode</th>\n",
       "      <th>Borough</th>\n",
       "      <th>Neighbourhood</th>\n",
       "      <th>ID</th>\n",
       "      <th>Name</th>\n",
       "      <th>Latitude</th>\n",
       "      <th>Longitude</th>\n",
       "    </tr>\n",
       "  </thead>\n",
       "  <tbody>\n",
       "    <tr>\n",
       "      <th>0</th>\n",
       "      <td>M5E</td>\n",
       "      <td>Downtown Toronto</td>\n",
       "      <td>Berczy Park</td>\n",
       "      <td>5b5bca904aa3f8002c97f85d</td>\n",
       "      <td>Fresh On Front</td>\n",
       "      <td>43.644771</td>\n",
       "      <td>-79.373306</td>\n",
       "    </tr>\n",
       "    <tr>\n",
       "      <th>1</th>\n",
       "      <td>M5H</td>\n",
       "      <td>Downtown Toronto</td>\n",
       "      <td>Adelaide, King, Richmond</td>\n",
       "      <td>5aff06ca6e4650002cc6286b</td>\n",
       "      <td>Rosalinda</td>\n",
       "      <td>43.650571</td>\n",
       "      <td>-79.384568</td>\n",
       "    </tr>\n",
       "    <tr>\n",
       "      <th>2</th>\n",
       "      <td>M5H</td>\n",
       "      <td>Downtown Toronto</td>\n",
       "      <td>Adelaide, King, Richmond</td>\n",
       "      <td>5c9d602f25fb7b002c79b669</td>\n",
       "      <td>Planta Queen</td>\n",
       "      <td>43.650571</td>\n",
       "      <td>-79.384568</td>\n",
       "    </tr>\n",
       "    <tr>\n",
       "      <th>3</th>\n",
       "      <td>M5J</td>\n",
       "      <td>Downtown Toronto</td>\n",
       "      <td>Harbourfront East, Toronto Islands, Union Station</td>\n",
       "      <td>5481b06c498ee191fa045a00</td>\n",
       "      <td>Kupfert &amp; Kim</td>\n",
       "      <td>43.640816</td>\n",
       "      <td>-79.381752</td>\n",
       "    </tr>\n",
       "    <tr>\n",
       "      <th>4</th>\n",
       "      <td>M5R</td>\n",
       "      <td>Central Toronto</td>\n",
       "      <td>The Annex, North Midtown, Yorkville</td>\n",
       "      <td>4ad4c061f964a52099f720e3</td>\n",
       "      <td>Live Organic Food Bar</td>\n",
       "      <td>43.672710</td>\n",
       "      <td>-79.405678</td>\n",
       "    </tr>\n",
       "  </tbody>\n",
       "</table>\n",
       "</div>"
      ],
      "text/plain": [
       "  Postcode           Borough  \\\n",
       "0      M5E  Downtown Toronto   \n",
       "1      M5H  Downtown Toronto   \n",
       "2      M5H  Downtown Toronto   \n",
       "3      M5J  Downtown Toronto   \n",
       "4      M5R   Central Toronto   \n",
       "\n",
       "                                       Neighbourhood  \\\n",
       "0                                        Berczy Park   \n",
       "1                           Adelaide, King, Richmond   \n",
       "2                           Adelaide, King, Richmond   \n",
       "3  Harbourfront East, Toronto Islands, Union Station   \n",
       "4                The Annex, North Midtown, Yorkville   \n",
       "\n",
       "                         ID                   Name   Latitude  Longitude  \n",
       "0  5b5bca904aa3f8002c97f85d         Fresh On Front  43.644771 -79.373306  \n",
       "1  5aff06ca6e4650002cc6286b              Rosalinda  43.650571 -79.384568  \n",
       "2  5c9d602f25fb7b002c79b669           Planta Queen  43.650571 -79.384568  \n",
       "3  5481b06c498ee191fa045a00          Kupfert & Kim  43.640816 -79.381752  \n",
       "4  4ad4c061f964a52099f720e3  Live Organic Food Bar  43.672710 -79.405678  "
      ]
     },
     "execution_count": 25,
     "metadata": {},
     "output_type": "execute_result"
    }
   ],
   "source": [
    "veg_rest.to_csv('veg_rest.csv') # Save the information so far to a .csv file due to limited calls on FourSquare\n",
    "df_veg_rest = pd.read_csv('veg_rest.csv', index_col=0)\n",
    "df_veg_rest.head()"
   ]
  },
  {
   "cell_type": "code",
   "execution_count": 54,
   "metadata": {},
   "outputs": [
    {
     "name": "stdout",
     "output_type": "stream",
     "text": [
      "(12, 7)\n"
     ]
    },
    {
     "data": {
      "text/plain": [
       "12"
      ]
     },
     "execution_count": 54,
     "metadata": {},
     "output_type": "execute_result"
    }
   ],
   "source": [
    "print(df_veg_rest.shape)\n",
    "df_veg_rest['Neighbourhood'].count()"
   ]
  },
  {
   "cell_type": "markdown",
   "metadata": {},
   "source": [
    "__Findings__:\n",
    "Out of 39 Neighbour counts of Toronto, we are left only with 12 neighbor counts having Vegetarian/Vegan \n",
    "restaurants.\n",
    "\n",
    "#### Now comes the question which Borough has the highest count of vegetarian restaurant?\n",
    "\n",
    "We are going to explore this next in the Section below."
   ]
  },
  {
   "cell_type": "code",
   "execution_count": 41,
   "metadata": {},
   "outputs": [
    {
     "data": {
      "text/html": [
       "<div>\n",
       "<style scoped>\n",
       "    .dataframe tbody tr th:only-of-type {\n",
       "        vertical-align: middle;\n",
       "    }\n",
       "\n",
       "    .dataframe tbody tr th {\n",
       "        vertical-align: top;\n",
       "    }\n",
       "\n",
       "    .dataframe thead th {\n",
       "        text-align: right;\n",
       "    }\n",
       "</style>\n",
       "<table border=\"1\" class=\"dataframe\">\n",
       "  <thead>\n",
       "    <tr style=\"text-align: right;\">\n",
       "      <th></th>\n",
       "      <th>Borough</th>\n",
       "      <th>ID</th>\n",
       "    </tr>\n",
       "  </thead>\n",
       "  <tbody>\n",
       "    <tr>\n",
       "      <th>0</th>\n",
       "      <td>Central Toronto</td>\n",
       "      <td>1</td>\n",
       "    </tr>\n",
       "    <tr>\n",
       "      <th>1</th>\n",
       "      <td>Downtown Toronto</td>\n",
       "      <td>10</td>\n",
       "    </tr>\n",
       "    <tr>\n",
       "      <th>2</th>\n",
       "      <td>West Toronto</td>\n",
       "      <td>1</td>\n",
       "    </tr>\n",
       "  </tbody>\n",
       "</table>\n",
       "</div>"
      ],
      "text/plain": [
       "            Borough  ID\n",
       "0   Central Toronto   1\n",
       "1  Downtown Toronto  10\n",
       "2      West Toronto   1"
      ]
     },
     "execution_count": 41,
     "metadata": {},
     "output_type": "execute_result"
    }
   ],
   "source": [
    "df_veg_rest_group =df_veg_rest.groupby('Borough')['ID'].count()\n",
    "df_veg_gr=df_veg_rest_group.to_frame().reset_index()\n",
    "df_veg_gr\n"
   ]
  },
  {
   "cell_type": "markdown",
   "metadata": {},
   "source": [
    "#### This can be seen visually on the below:"
   ]
  },
  {
   "cell_type": "code",
   "execution_count": 134,
   "metadata": {},
   "outputs": [
    {
     "data": {
      "image/png": "[encoded data removed]",
      "text/plain": [
       "<Figure size 720x360 with 1 Axes>"
      ]
     },
     "metadata": {
      "needs_background": "light"
     },
     "output_type": "display_data"
    }
   ],
   "source": [
    "df_veg_rest.groupby('Borough')['ID'].count().plot.bar(figsize=(10,5), color = clr)\n",
    "plt.title('Vegetarian Resturants per Borough', fontsize = 20)\n",
    "plt.xlabel('Borough', fontsize = 15)\n",
    "plt.ylabel('No.of Vegetarian Resturants', fontsize=15)\n",
    "plt.xticks(rotation = 'horizontal')\n",
    "plt.show()"
   ]
  },
  {
   "cell_type": "markdown",
   "metadata": {},
   "source": [
    "__Findings__: \n",
    "From the bar graph it makes sense if we open the Fruits and Vegetables store in DownTown Toronto\n",
    "as it has the highest number of Vegetarian Restaurants."
   ]
  },
  {
   "cell_type": "code",
   "execution_count": 56,
   "metadata": {},
   "outputs": [
    {
     "data": {
      "text/html": [
       "<div style=\"width:100%;\"><div style=\"position:relative;width:100%;height:0;padding-bottom:60%;\"><iframe src=\"about:blank\" style=\"position:absolute;width:100%;height:100%;left:0;top:0;border:none !important;\" data-html=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 onload=\"this.contentDocument.open();this.contentDocument.write(atob(this.getAttribute('data-html')));this.contentDocument.close();\" allowfullscreen webkitallowfullscreen mozallowfullscreen></iframe></div></div>"
      ],
      "text/plain": [
       "<folium.folium.Map at 0x1db188ea278>"
      ]
     },
     "execution_count": 56,
     "metadata": {},
     "output_type": "execute_result"
    }
   ],
   "source": [
    "# instantiate a feature group for the incidents in the dataframe\n",
    "incidents = folium.map.FeatureGroup()\n",
    "map_toronto = folium.Map(location=[latitude, longitude], zoom_start=10)\n",
    "\n",
    "# add markers to map\n",
    "for lat, lng, borough, neighbourhood in zip(df_veg_rest['Latitude'], df_veg_rest['Longitude'],\n",
    "                                           df_veg_rest['Borough'], df_veg_rest['Neighbourhood']):\n",
    "    label = '{}, {}'.format(neighbourhood, borough)\n",
    "    label = folium.Popup(label, parse_html=True)\n",
    "    folium.CircleMarker(\n",
    "        [lat, lng],\n",
    "        radius=5,\n",
    "        popup=label,\n",
    "        color='blue',\n",
    "        fill=True,\n",
    "        fill_color='#3186cc',\n",
    "        fill_opacity=0.7,\n",
    "        parse_html=False).add_to(map_toronto)  \n",
    "    \n",
    "#map_toronto\n",
    "\n",
    "\n",
    "# add pop-up text to each marker on the map\n",
    "latitudes = list(df_veg_rest['Latitude'])\n",
    "longitudes = list(df_veg_rest['Longitude'])\n",
    "labels = list( df_veg_rest['Borough'])\n",
    "\n",
    "for lat, lng, label in zip(latitudes, longitudes, labels):\n",
    "    folium.Marker([lat, lng], popup=label).add_to(map_toronto)    \n",
    "    \n",
    "# add incidents to map\n",
    "map_toronto.add_child(incidents)"
   ]
  },
  {
   "cell_type": "markdown",
   "metadata": {},
   "source": [
    "#### Next we are going to move towards getting details about the Juice Bar in Toronto"
   ]
  },
  {
   "cell_type": "code",
   "execution_count": 59,
   "metadata": {},
   "outputs": [],
   "source": [
    "column_names=['Postcode', 'Borough', 'Neighbourhood', 'ID','Name', 'Latitude', 'Longitude']\n",
    "juice_bar=pd.DataFrame(columns=column_names)\n",
    "count=1\n",
    "for row in tr_df.values.tolist():\n",
    "    Postcode, Borough, Neighbourhood, Latitude, Longitude=row\n",
    "    #venues = getVenues(Latitude,Longitude) # Avoid running it twice will cost calls\n",
    "    juice_bars=venues[venues['Category']=='Juice Bar']   \n",
    "    for jb_detail in juice_bars.values.tolist():\n",
    "        id, name , category=jb_detail\n",
    "        juice_bar = juice_bar.append({ 'Postcode': Postcode,           \n",
    "                                                'Borough': Borough,\n",
    "                                                'Neighbourhood': Neighbourhood, \n",
    "                                                'ID': id,\n",
    "                                                'Name' : name,\n",
    "                                                'Latitude':  Latitude,\n",
    "                                                'Longitude': Longitude\n",
    "                                               }, ignore_index=True)\n",
    "    count+=1"
   ]
  },
  {
   "cell_type": "code",
   "execution_count": 61,
   "metadata": {},
   "outputs": [
    {
     "data": {
      "text/html": [
       "<div>\n",
       "<style scoped>\n",
       "    .dataframe tbody tr th:only-of-type {\n",
       "        vertical-align: middle;\n",
       "    }\n",
       "\n",
       "    .dataframe tbody tr th {\n",
       "        vertical-align: top;\n",
       "    }\n",
       "\n",
       "    .dataframe thead th {\n",
       "        text-align: right;\n",
       "    }\n",
       "</style>\n",
       "<table border=\"1\" class=\"dataframe\">\n",
       "  <thead>\n",
       "    <tr style=\"text-align: right;\">\n",
       "      <th></th>\n",
       "      <th>Postcode</th>\n",
       "      <th>Borough</th>\n",
       "      <th>Neighbourhood</th>\n",
       "      <th>ID</th>\n",
       "      <th>Name</th>\n",
       "      <th>Latitude</th>\n",
       "      <th>Longitude</th>\n",
       "    </tr>\n",
       "  </thead>\n",
       "  <tbody>\n",
       "    <tr>\n",
       "      <th>0</th>\n",
       "      <td>M4K</td>\n",
       "      <td>East Toronto</td>\n",
       "      <td>The Danforth West, Riverdale</td>\n",
       "      <td>4bd1db4e046076b0f1a57271</td>\n",
       "      <td>The Big Carrot Organic Juice Bar</td>\n",
       "      <td>43.679557</td>\n",
       "      <td>-79.352188</td>\n",
       "    </tr>\n",
       "    <tr>\n",
       "      <th>1</th>\n",
       "      <td>M4Y</td>\n",
       "      <td>Downtown Toronto</td>\n",
       "      <td>Church and Wellesley</td>\n",
       "      <td>50c20a89e4b02803a189384b</td>\n",
       "      <td>FUEL+</td>\n",
       "      <td>43.665860</td>\n",
       "      <td>-79.383160</td>\n",
       "    </tr>\n",
       "    <tr>\n",
       "      <th>2</th>\n",
       "      <td>M5B</td>\n",
       "      <td>Downtown Toronto</td>\n",
       "      <td>Ryerson, Garden District</td>\n",
       "      <td>4bdf1c4bffdec92826c0eaa1</td>\n",
       "      <td>Booster Juice</td>\n",
       "      <td>43.657162</td>\n",
       "      <td>-79.378937</td>\n",
       "    </tr>\n",
       "    <tr>\n",
       "      <th>3</th>\n",
       "      <td>M5G</td>\n",
       "      <td>Downtown Toronto</td>\n",
       "      <td>Central Bay Street</td>\n",
       "      <td>4b9a73ecf964a5209db635e3</td>\n",
       "      <td>Booster Juice</td>\n",
       "      <td>43.657952</td>\n",
       "      <td>-79.387383</td>\n",
       "    </tr>\n",
       "    <tr>\n",
       "      <th>4</th>\n",
       "      <td>M5G</td>\n",
       "      <td>Downtown Toronto</td>\n",
       "      <td>Central Bay Street</td>\n",
       "      <td>5beccbec2b274a002c3ef499</td>\n",
       "      <td>Booster Juice</td>\n",
       "      <td>43.657952</td>\n",
       "      <td>-79.387383</td>\n",
       "    </tr>\n",
       "  </tbody>\n",
       "</table>\n",
       "</div>"
      ],
      "text/plain": [
       "  Postcode           Borough                 Neighbourhood  \\\n",
       "0      M4K      East Toronto  The Danforth West, Riverdale   \n",
       "1      M4Y  Downtown Toronto          Church and Wellesley   \n",
       "2      M5B  Downtown Toronto      Ryerson, Garden District   \n",
       "3      M5G  Downtown Toronto            Central Bay Street   \n",
       "4      M5G  Downtown Toronto            Central Bay Street   \n",
       "\n",
       "                         ID                              Name   Latitude  \\\n",
       "0  4bd1db4e046076b0f1a57271  The Big Carrot Organic Juice Bar  43.679557   \n",
       "1  50c20a89e4b02803a189384b                             FUEL+  43.665860   \n",
       "2  4bdf1c4bffdec92826c0eaa1                     Booster Juice  43.657162   \n",
       "3  4b9a73ecf964a5209db635e3                     Booster Juice  43.657952   \n",
       "4  5beccbec2b274a002c3ef499                     Booster Juice  43.657952   \n",
       "\n",
       "   Longitude  \n",
       "0 -79.352188  \n",
       "1 -79.383160  \n",
       "2 -79.378937  \n",
       "3 -79.387383  \n",
       "4 -79.387383  "
      ]
     },
     "execution_count": 61,
     "metadata": {},
     "output_type": "execute_result"
    }
   ],
   "source": [
    "#juice_bar.to_csv('juice_bar.csv') # Save the information so far to a .csv file due to limited calls on FourSquare\n",
    "df_juice_bar = pd.read_csv('juice_bar.csv', index_col=0)\n",
    "df_juice_bar.head()"
   ]
  },
  {
   "cell_type": "code",
   "execution_count": 62,
   "metadata": {},
   "outputs": [
    {
     "name": "stdout",
     "output_type": "stream",
     "text": [
      "(10, 7)\n"
     ]
    },
    {
     "data": {
      "text/plain": [
       "10"
      ]
     },
     "execution_count": 62,
     "metadata": {},
     "output_type": "execute_result"
    }
   ],
   "source": [
    "print(df_juice_bar.shape)\n",
    "df_juice_bar['Neighbourhood'].count()"
   ]
  },
  {
   "cell_type": "markdown",
   "metadata": {},
   "source": [
    "__Findings__:\n",
    "Out of 39 Neighbour counts of Toronto, we are left only with 10 neighbor counts having Juice Bars."
   ]
  },
  {
   "cell_type": "markdown",
   "metadata": {},
   "source": [
    "To find  which Borough has the highest count of Juice Bars, \n",
    "we explored the number of Juice Bars per Borough as shown below:"
   ]
  },
  {
   "cell_type": "code",
   "execution_count": 63,
   "metadata": {},
   "outputs": [
    {
     "data": {
      "text/html": [
       "<div>\n",
       "<style scoped>\n",
       "    .dataframe tbody tr th:only-of-type {\n",
       "        vertical-align: middle;\n",
       "    }\n",
       "\n",
       "    .dataframe tbody tr th {\n",
       "        vertical-align: top;\n",
       "    }\n",
       "\n",
       "    .dataframe thead th {\n",
       "        text-align: right;\n",
       "    }\n",
       "</style>\n",
       "<table border=\"1\" class=\"dataframe\">\n",
       "  <thead>\n",
       "    <tr style=\"text-align: right;\">\n",
       "      <th></th>\n",
       "      <th>Borough</th>\n",
       "      <th>ID</th>\n",
       "    </tr>\n",
       "  </thead>\n",
       "  <tbody>\n",
       "    <tr>\n",
       "      <th>0</th>\n",
       "      <td>Downtown Toronto</td>\n",
       "      <td>8</td>\n",
       "    </tr>\n",
       "    <tr>\n",
       "      <th>1</th>\n",
       "      <td>East Toronto</td>\n",
       "      <td>1</td>\n",
       "    </tr>\n",
       "    <tr>\n",
       "      <th>2</th>\n",
       "      <td>West Toronto</td>\n",
       "      <td>1</td>\n",
       "    </tr>\n",
       "  </tbody>\n",
       "</table>\n",
       "</div>"
      ],
      "text/plain": [
       "            Borough  ID\n",
       "0  Downtown Toronto   8\n",
       "1      East Toronto   1\n",
       "2      West Toronto   1"
      ]
     },
     "execution_count": 63,
     "metadata": {},
     "output_type": "execute_result"
    }
   ],
   "source": [
    "df_juice_bar_group =df_juice_bar.groupby('Borough')['ID'].count()\n",
    "df_juice_bar_gr=df_juice_bar_group.to_frame().reset_index()\n",
    "df_juice_bar_gr\n"
   ]
  },
  {
   "cell_type": "code",
   "execution_count": 135,
   "metadata": {},
   "outputs": [
    {
     "data": {
      "image/png": "[encoded data removed]",
      "text/plain": [
       "<Figure size 720x360 with 1 Axes>"
      ]
     },
     "metadata": {
      "needs_background": "light"
     },
     "output_type": "display_data"
    }
   ],
   "source": [
    "df_juice_bar.groupby('Borough')['ID'].count().plot.bar(figsize=(10,5), color = clr)\n",
    "plt.title('Juice Bars per Borough', fontsize = 20)\n",
    "plt.xlabel('Borough', fontsize = 15)\n",
    "plt.ylabel('No.of Juice Bars', fontsize=15)\n",
    "plt.xticks(rotation = 'horizontal')\n",
    "plt.show()"
   ]
  },
  {
   "cell_type": "code",
   "execution_count": 136,
   "metadata": {},
   "outputs": [
    {
     "data": {
      "text/html": [
       "<div style=\"width:100%;\"><div style=\"position:relative;width:100%;height:0;padding-bottom:60%;\"><iframe src=\"about:blank\" style=\"position:absolute;width:100%;height:100%;left:0;top:0;border:none !important;\" data-html=PCFET0NUWVBFIGh0bWw+CjxoZWFkPiAgICAKICAgIDxtZXRhIGh0dHAtZXF1aXY9ImNvbnRlbnQtdHlwZSIgY29udGVudD0idGV4dC9odG1sOyBjaGFyc2V0PVVURi04IiAvPgogICAgCiAgICAgICAgPHNjcmlwdD4KICAgICAgICAgICAgTF9OT19UT1VDSCA9IGZhbHNlOwogICAgICAgICAgICBMX0RJU0FCTEVfM0QgPSBmYWxzZTsKICAgICAgICA8L3NjcmlwdD4KICAgIAogICAgPHNjcmlwdCBzcmM9Imh0dHBzOi8vY2RuLmpzZGVsaXZyLm5ldC9ucG0vbGVhZmxldEAxLjUuMS9kaXN0L2xlYWZsZXQuanMiPjwvc2NyaXB0PgogICAgPHNjcmlwdCBzcmM9Imh0dHBzOi8vY29kZS5qcXVlcnkuY29tL2pxdWVyeS0xLjEyLjQubWluLmpzIj48L3NjcmlwdD4KICAgIDxzY3JpcHQgc3JjPSJodHRwczovL21heGNkbi5ib290c3RyYXBjZG4uY29tL2Jvb3RzdHJhcC8zLjIuMC9qcy9ib290c3RyYXAubWluLmpzIj48L3NjcmlwdD4KICAgIDxzY3JpcHQgc3JjPSJodHRwczovL2NkbmpzLmNsb3VkZmxhcmUuY29tL2FqYXgvbGlicy9MZWFmbGV0LmF3ZXNvbWUtbWFya2Vycy8yLjAuMi9sZWFmbGV0LmF3ZXNvbWUtbWFya2Vycy5qcyI+PC9zY3JpcHQ+CiAgICA8bGluayByZWw9InN0eWxlc2hlZXQiIGhyZWY9Imh0dHBzOi8vY2RuLmpzZGVsaXZyLm5ldC9ucG0vbGVhZmxldEAxLjUuMS9kaXN0L2xlYWZsZXQuY3NzIi8+CiAgICA8bGluayByZWw9InN0eWxlc2hlZXQiIGhyZWY9Imh0dHBzOi8vbWF4Y2RuLmJvb3RzdHJhcGNkbi5jb20vYm9vdHN0cmFwLzMuMi4wL2Nzcy9ib290c3RyYXAubWluLmNzcyIvPgogICAgPGxpbmsgcmVsPSJzdHlsZXNoZWV0IiBocmVmPSJodHRwczovL21heGNkbi5ib290c3RyYXBjZG4uY29tL2Jvb3RzdHJhcC8zLjIuMC9jc3MvYm9vdHN0cmFwLXRoZW1lLm1pbi5jc3MiLz4KICAgIDxsaW5rIHJlbD0ic3R5bGVzaGVldCIgaHJlZj0iaHR0cHM6Ly9tYXhjZG4uYm9vdHN0cmFwY2RuLmNvbS9mb250LWF3ZXNvbWUvNC42LjMvY3NzL2ZvbnQtYXdlc29tZS5taW4uY3NzIi8+CiAgICA8bGluayByZWw9InN0eWxlc2hlZXQiIGhyZWY9Imh0dHBzOi8vY2RuanMuY2xvdWRmbGFyZS5jb20vYWpheC9saWJzL0xlYWZsZXQuYXdlc29tZS1tYXJrZXJzLzIuMC4yL2xlYWZsZXQuYXdlc29tZS1tYXJrZXJzLmNzcyIvPgogICAgPGxpbmsgcmVsPSJzdHlsZXNoZWV0IiBocmVmPSJodHRwczovL3Jhd2Nkbi5naXRoYWNrLmNvbS9weXRob24tdmlzdWFsaXphdGlvbi9mb2xpdW0vbWFzdGVyL2ZvbGl1bS90ZW1wbGF0ZXMvbGVhZmxldC5hd2Vzb21lLnJvdGF0ZS5jc3MiLz4KICAgIDxzdHlsZT5odG1sLCBib2R5IHt3aWR0aDogMTAwJTtoZWlnaHQ6IDEwMCU7bWFyZ2luOiAwO3BhZGRpbmc6IDA7fTwvc3R5bGU+CiAgICA8c3R5bGU+I21hcCB7cG9zaXRpb246YWJzb2x1dGU7dG9wOjA7Ym90dG9tOjA7cmlnaHQ6MDtsZWZ0OjA7fTwvc3R5bGU+CiAgICAKICAgICAgICAgICAgPG1ldGEgbmFtZT0idmlld3BvcnQiIGNvbnRlbnQ9IndpZHRoPWRldmljZS13aWR0aCwKICAgICAgICAgICAgICAgIGluaXRpYWwtc2NhbGU9MS4wLCBtYXhpbXVtLXNjYWxlPTEuMCwgdXNlci1zY2FsYWJsZT1ubyIgLz4KICAgICAgICAgICAgPHN0eWxlPgogICAgICAgICAgICAgICAgI21hcF83YjY1NGI0ODI3ZTQ0MjNjYjkxNzRhNDI0YjIyNWNiOSB7CiAgICAgICAgICAgICAgICAgICAgcG9zaXRpb246IHJlbGF0aXZlOwogICAgICAgICAgICAgICAgICAgIHdpZHRoOiAxMDAuMCU7CiAgICAgICAgICAgICAgICAgICAgaGVpZ2h0OiAxMDAuMCU7CiAgICAgICAgICAgICAgICAgICAgbGVmdDogMC4wJTsKICAgICAgICAgICAgICAgICAgICB0b3A6IDAuMCU7CiAgICAgICAgICAgICAgICB9CiAgICAgICAgICAgIDwvc3R5bGU+CiAgICAgICAgCjwvaGVhZD4KPGJvZHk+ICAgIAogICAgCiAgICAgICAgICAgIDxkaXYgY2xhc3M9ImZvbGl1bS1tYXAiIGlkPSJtYXBfN2I2NTRiNDgyN2U0NDIzY2I5MTc0YTQyNGIyMjVjYjkiID48L2Rpdj4KICAgICAgICAKPC9ib2R5Pgo8c2NyaXB0PiAgICAKICAgIAogICAgICAgICAgICB2YXIgbWFwXzdiNjU0YjQ4MjdlNDQyM2NiOTE3NGE0MjRiMjI1Y2I5ID0gTC5tYXAoCiAgICAgICAgICAgICAgICAibWFwXzdiNjU0YjQ4MjdlNDQyM2NiOTE3NGE0MjRiMjI1Y2I5IiwKICAgICAgICAgICAgICAgIHsKICAgICAgICAgICAgICAgICAgICBjZW50ZXI6IFs0My42NTM5NjMsIC03OS4zODcyMDddLAogICAgICAgICAgICAgICAgICAgIGNyczogTC5DUlMuRVBTRzM4NTcsCiAgICAgICAgICAgICAgICAgICAgem9vbTogMTAsCiAgICAgICAgICAgICAgICAgICAgem9vbUNvbnRyb2w6IHRydWUsCiAgICAgICAgICAgICAgICAgICAgcHJlZmVyQ2FudmFzOiBmYWxzZSwKICAgICAgICAgICAgICAgIH0KICAgICAgICAgICAgKTsKCiAgICAgICAgICAgIAoKICAgICAgICAKICAgIAogICAgICAgICAgICB2YXIgdGlsZV9sYXllcl81MTljYWJlNTA3OTM0NDJkYTU5NDFlNTMzZjQ0YjA0YSA9IEwudGlsZUxheWVyKAogICAgICAgICAgICAgICAgImh0dHBzOi8ve3N9LnRpbGUub3BlbnN0cmVldG1hcC5vcmcve3p9L3t4fS97eX0ucG5nIiwKICAgICAgICAgICAgICAgIHsiYXR0cmlidXRpb24iOiAiRGF0YSBieSBcdTAwMjZjb3B5OyBcdTAwM2NhIGhyZWY9XCJodHRwOi8vb3BlbnN0cmVldG1hcC5vcmdcIlx1MDAzZU9wZW5TdHJlZXRNYXBcdTAwM2MvYVx1MDAzZSwgdW5kZXIgXHUwMDNjYSBocmVmPVwiaHR0cDovL3d3dy5vcGVuc3RyZWV0bWFwLm9yZy9jb3B5cmlnaHRcIlx1MDAzZU9EYkxcdTAwM2MvYVx1MDAzZS4iLCAiZGV0ZWN0UmV0aW5hIjogZmFsc2UsICJtYXhOYXRpdmVab29tIjogMTgsICJtYXhab29tIjogMTgsICJtaW5ab29tIjogMCwgIm5vV3JhcCI6IGZhbHNlLCAib3BhY2l0eSI6IDEsICJzdWJkb21haW5zIjogImFiYyIsICJ0bXMiOiBmYWxzZX0KICAgICAgICAgICAgKS5hZGRUbyhtYXBfN2I2NTRiNDgyN2U0NDIzY2I5MTc0YTQyNGIyMjVjYjkpOwogICAgICAgIAogICAgCiAgICAgICAgICAgIHZhciBjaXJjbGVfbWFya2VyXzQzZDAxNDlmNWVlODQzY2I4NWIzZjJjZGUzZjdiMTQ2ID0gTC5jaXJjbGVNYXJrZXIoCiAgICAgICAgICAgICAgICBbNDMuNjc5NTU3MSwgLTc5LjM1MjE4OF0sCiAgICAgICAgICAgICAgICB7ImJ1YmJsaW5nTW91c2VFdmVudHMiOiB0cnVlLCAiY29sb3IiOiAiYmx1ZSIsICJkYXNoQXJyYXkiOiBudWxsLCAiZGFzaE9mZnNldCI6IG51bGwsICJmaWxsIjogdHJ1ZSwgImZpbGxDb2xvciI6ICIjMzE4NmNjIiwgImZpbGxPcGFjaXR5IjogMC43LCAiZmlsbFJ1bGUiOiAiZXZlbm9kZCIsICJsaW5lQ2FwIjogInJvdW5kIiwgImxpbmVKb2luIjogInJvdW5kIiwgIm9wYWNpdHkiOiAxLjAsICJyYWRpdXMiOiA1LCAic3Ryb2tlIjogdHJ1ZSwgIndlaWdodCI6IDN9CiAgICAgICAgICAgICkuYWRkVG8obWFwXzdiNjU0YjQ4MjdlNDQyM2NiOTE3NGE0MjRiMjI1Y2I5KTsKICAgICAgICAKICAgIAogICAgICAgIHZhciBwb3B1cF9iZWRiMjhmNzE0NTY0ZWU5YTFmNTRjZGE1NzQxOThlNyA9IEwucG9wdXAoeyJtYXhXaWR0aCI6ICIxMDAlIn0pOwoKICAgICAgICAKICAgICAgICAgICAgdmFyIGh0bWxfMTVlZDgzMTRhNGE1NGY1Njk3ZDAwZDc5MzU5N2I5YmIgPSAkKGA8ZGl2IGlkPSJodG1sXzE1ZWQ4MzE0YTRhNTRmNTY5N2QwMGQ3OTM1OTdiOWJiIiBzdHlsZT0id2lkdGg6IDEwMC4wJTsgaGVpZ2h0OiAxMDAuMCU7Ij5UaGUgRGFuZm9ydGggV2VzdCwgUml2ZXJkYWxlLCBFYXN0IFRvcm9udG88L2Rpdj5gKVswXTsKICAgICAgICAgICAgcG9wdXBfYmVkYjI4ZjcxNDU2NGVlOWExZjU0Y2RhNTc0MTk4ZTcuc2V0Q29udGVudChodG1sXzE1ZWQ4MzE0YTRhNTRmNTY5N2QwMGQ3OTM1OTdiOWJiKTsKICAgICAgICAKCiAgICAgICAgY2lyY2xlX21hcmtlcl80M2QwMTQ5ZjVlZTg0M2NiODViM2YyY2RlM2Y3YjE0Ni5iaW5kUG9wdXAocG9wdXBfYmVkYjI4ZjcxNDU2NGVlOWExZjU0Y2RhNTc0MTk4ZTcpCiAgICAgICAgOwoKICAgICAgICAKICAgIAogICAgCiAgICAgICAgICAgIHZhciBjaXJjbGVfbWFya2VyX2I3MGRiZjljNTJmMzQ0NzhiNWFlYzI3ZTU3ZjIwMTgwID0gTC5jaXJjbGVNYXJrZXIoCiAgICAgICAgICAgICAgICBbNDMuNjY1ODU5OSwgLTc5LjM4MzE1OTkwMDAwMDAyXSwKICAgICAgICAgICAgICAgIHsiYnViYmxpbmdNb3VzZUV2ZW50cyI6IHRydWUsICJjb2xvciI6ICJibHVlIiwgImRhc2hBcnJheSI6IG51bGwsICJkYXNoT2Zmc2V0IjogbnVsbCwgImZpbGwiOiB0cnVlLCAiZmlsbENvbG9yIjogIiMzMTg2Y2MiLCAiZmlsbE9wYWNpdHkiOiAwLjcsICJmaWxsUnVsZSI6ICJldmVub2RkIiwgImxpbmVDYXAiOiAicm91bmQiLCAibGluZUpvaW4iOiAicm91bmQiLCAib3BhY2l0eSI6IDEuMCwgInJhZGl1cyI6IDUsICJzdHJva2UiOiB0cnVlLCAid2VpZ2h0IjogM30KICAgICAgICAgICAgKS5hZGRUbyhtYXBfN2I2NTRiNDgyN2U0NDIzY2I5MTc0YTQyNGIyMjVjYjkpOwogICAgICAgIAogICAgCiAgICAgICAgdmFyIHBvcHVwXzgwYWM2NTcyZjk1MjQzZDZiNWUzNWY5MGY4MzAyYjUzID0gTC5wb3B1cCh7Im1heFdpZHRoIjogIjEwMCUifSk7CgogICAgICAgIAogICAgICAgICAgICB2YXIgaHRtbF9lMjJlMDdiMGQ3OGI0YzdmYmI4ZDY4ZmE3ZjcxODA3ZCA9ICQoYDxkaXYgaWQ9Imh0bWxfZTIyZTA3YjBkNzhiNGM3ZmJiOGQ2OGZhN2Y3MTgwN2QiIHN0eWxlPSJ3aWR0aDogMTAwLjAlOyBoZWlnaHQ6IDEwMC4wJTsiPkNodXJjaCBhbmQgV2VsbGVzbGV5LCBEb3dudG93biBUb3JvbnRvPC9kaXY+YClbMF07CiAgICAgICAgICAgIHBvcHVwXzgwYWM2NTcyZjk1MjQzZDZiNWUzNWY5MGY4MzAyYjUzLnNldENvbnRlbnQoaHRtbF9lMjJlMDdiMGQ3OGI0YzdmYmI4ZDY4ZmE3ZjcxODA3ZCk7CiAgICAgICAgCgogICAgICAgIGNpcmNsZV9tYXJrZXJfYjcwZGJmOWM1MmYzNDQ3OGI1YWVjMjdlNTdmMjAxODAuYmluZFBvcHVwKHBvcHVwXzgwYWM2NTcyZjk1MjQzZDZiNWUzNWY5MGY4MzAyYjUzKQogICAgICAgIDsKCiAgICAgICAgCiAgICAKICAgIAogICAgICAgICAgICB2YXIgY2lyY2xlX21hcmtlcl9kZTYyNzUzNzMzZjY0MGJmYThmZjk4OTExNTc0NGU4NCA9IEwuY2lyY2xlTWFya2VyKAogICAgICAgICAgICAgICAgWzQzLjY1NzE2MTgsIC03OS4zNzg5MzcwOTk5OTk5OV0sCiAgICAgICAgICAgICAgICB7ImJ1YmJsaW5nTW91c2VFdmVudHMiOiB0cnVlLCAiY29sb3IiOiAiYmx1ZSIsICJkYXNoQXJyYXkiOiBudWxsLCAiZGFzaE9mZnNldCI6IG51bGwsICJmaWxsIjogdHJ1ZSwgImZpbGxDb2xvciI6ICIjMzE4NmNjIiwgImZpbGxPcGFjaXR5IjogMC43LCAiZmlsbFJ1bGUiOiAiZXZlbm9kZCIsICJsaW5lQ2FwIjogInJvdW5kIiwgImxpbmVKb2luIjogInJvdW5kIiwgIm9wYWNpdHkiOiAxLjAsICJyYWRpdXMiOiA1LCAic3Ryb2tlIjogdHJ1ZSwgIndlaWdodCI6IDN9CiAgICAgICAgICAgICkuYWRkVG8obWFwXzdiNjU0YjQ4MjdlNDQyM2NiOTE3NGE0MjRiMjI1Y2I5KTsKICAgICAgICAKICAgIAogICAgICAgIHZhciBwb3B1cF9mMmQ4ODZhMmQwYjc0YzNhODUyN2M2NDZmZmQ3ZmU5NyA9IEwucG9wdXAoeyJtYXhXaWR0aCI6ICIxMDAlIn0pOwoKICAgICAgICAKICAgICAgICAgICAgdmFyIGh0bWxfZTY5NTA0MDVlODI4NDIxYWI1N2I4YzY0M2E3ZDZmYTUgPSAkKGA8ZGl2IGlkPSJodG1sX2U2OTUwNDA1ZTgyODQyMWFiNTdiOGM2NDNhN2Q2ZmE1IiBzdHlsZT0id2lkdGg6IDEwMC4wJTsgaGVpZ2h0OiAxMDAuMCU7Ij5SeWVyc29uLCBHYXJkZW4gRGlzdHJpY3QsIERvd250b3duIFRvcm9udG88L2Rpdj5gKVswXTsKICAgICAgICAgICAgcG9wdXBfZjJkODg2YTJkMGI3NGMzYTg1MjdjNjQ2ZmZkN2ZlOTcuc2V0Q29udGVudChodG1sX2U2OTUwNDA1ZTgyODQyMWFiNTdiOGM2NDNhN2Q2ZmE1KTsKICAgICAgICAKCiAgICAgICAgY2lyY2xlX21hcmtlcl9kZTYyNzUzNzMzZjY0MGJmYThmZjk4OTExNTc0NGU4NC5iaW5kUG9wdXAocG9wdXBfZjJkODg2YTJkMGI3NGMzYTg1MjdjNjQ2ZmZkN2ZlOTcpCiAgICAgICAgOwoKICAgICAgICAKICAgIAogICAgCiAgICAgICAgICAgIHZhciBjaXJjbGVfbWFya2VyXzIwZDY0NGQxMjk4NTRhM2I5NzBhOGI1ZDM1NDc1ZDRiID0gTC5jaXJjbGVNYXJrZXIoCiAgICAgICAgICAgICAgICBbNDMuNjU3OTUyNCwgLTc5LjM4NzM4MjZdLAogICAgICAgICAgICAgICAgeyJidWJibGluZ01vdXNlRXZlbnRzIjogdHJ1ZSwgImNvbG9yIjogImJsdWUiLCAiZGFzaEFycmF5IjogbnVsbCwgImRhc2hPZmZzZXQiOiBudWxsLCAiZmlsbCI6IHRydWUsICJmaWxsQ29sb3IiOiAiIzMxODZjYyIsICJmaWxsT3BhY2l0eSI6IDAuNywgImZpbGxSdWxlIjogImV2ZW5vZGQiLCAibGluZUNhcCI6ICJyb3VuZCIsICJsaW5lSm9pbiI6ICJyb3VuZCIsICJvcGFjaXR5IjogMS4wLCAicmFkaXVzIjogNSwgInN0cm9rZSI6IHRydWUsICJ3ZWlnaHQiOiAzfQogICAgICAgICAgICApLmFkZFRvKG1hcF83YjY1NGI0ODI3ZTQ0MjNjYjkxNzRhNDI0YjIyNWNiOSk7CiAgICAgICAgCiAgICAKICAgICAgICB2YXIgcG9wdXBfMDExM2I5ZmQ0MGZiNDA4ZWFlMjczNjEwZDgwNjZmMWQgPSBMLnBvcHVwKHsibWF4V2lkdGgiOiAiMTAwJSJ9KTsKCiAgICAgICAgCiAgICAgICAgICAgIHZhciBodG1sXzAxZTQzNGQ0ODRhMzQzZmRhZGIxYjExNGY2NWIzN2E0ID0gJChgPGRpdiBpZD0iaHRtbF8wMWU0MzRkNDg0YTM0M2ZkYWRiMWIxMTRmNjViMzdhNCIgc3R5bGU9IndpZHRoOiAxMDAuMCU7IGhlaWdodDogMTAwLjAlOyI+Q2VudHJhbCBCYXkgU3RyZWV0LCBEb3dudG93biBUb3JvbnRvPC9kaXY+YClbMF07CiAgICAgICAgICAgIHBvcHVwXzAxMTNiOWZkNDBmYjQwOGVhZTI3MzYxMGQ4MDY2ZjFkLnNldENvbnRlbnQoaHRtbF8wMWU0MzRkNDg0YTM0M2ZkYWRiMWIxMTRmNjViMzdhNCk7CiAgICAgICAgCgogICAgICAgIGNpcmNsZV9tYXJrZXJfMjBkNjQ0ZDEyOTg1NGEzYjk3MGE4YjVkMzU0NzVkNGIuYmluZFBvcHVwKHBvcHVwXzAxMTNiOWZkNDBmYjQwOGVhZTI3MzYxMGQ4MDY2ZjFkKQogICAgICAgIDsKCiAgICAgICAgCiAgICAKICAgIAogICAgICAgICAgICB2YXIgY2lyY2xlX21hcmtlcl9iN2FhZDQ5NTc5M2I0YmY5OGFhNTlkZWI0ZTU5NjYxOSA9IEwuY2lyY2xlTWFya2VyKAogICAgICAgICAgICAgICAgWzQzLjY1Nzk1MjQsIC03OS4zODczODI2XSwKICAgICAgICAgICAgICAgIHsiYnViYmxpbmdNb3VzZUV2ZW50cyI6IHRydWUsICJjb2xvciI6ICJibHVlIiwgImRhc2hBcnJheSI6IG51bGwsICJkYXNoT2Zmc2V0IjogbnVsbCwgImZpbGwiOiB0cnVlLCAiZmlsbENvbG9yIjogIiMzMTg2Y2MiLCAiZmlsbE9wYWNpdHkiOiAwLjcsICJmaWxsUnVsZSI6ICJldmVub2RkIiwgImxpbmVDYXAiOiAicm91bmQiLCAibGluZUpvaW4iOiAicm91bmQiLCAib3BhY2l0eSI6IDEuMCwgInJhZGl1cyI6IDUsICJzdHJva2UiOiB0cnVlLCAid2VpZ2h0IjogM30KICAgICAgICAgICAgKS5hZGRUbyhtYXBfN2I2NTRiNDgyN2U0NDIzY2I5MTc0YTQyNGIyMjVjYjkpOwogICAgICAgIAogICAgCiAgICAgICAgdmFyIHBvcHVwXzY3YzExZjc0MDcwMzQwMzk5MWQ2NDFjMTM4ZDljZGQ1ID0gTC5wb3B1cCh7Im1heFdpZHRoIjogIjEwMCUifSk7CgogICAgICAgIAogICAgICAgICAgICB2YXIgaHRtbF84OGExNzEzNWFlMzU0NzNkOTA2MWNkMzQwNzg0YmRhMCA9ICQoYDxkaXYgaWQ9Imh0bWxfODhhMTcxMzVhZTM1NDczZDkwNjFjZDM0MDc4NGJkYTAiIHN0eWxlPSJ3aWR0aDogMTAwLjAlOyBoZWlnaHQ6IDEwMC4wJTsiPkNlbnRyYWwgQmF5IFN0cmVldCwgRG93bnRvd24gVG9yb250bzwvZGl2PmApWzBdOwogICAgICAgICAgICBwb3B1cF82N2MxMWY3NDA3MDM0MDM5OTFkNjQxYzEzOGQ5Y2RkNS5zZXRDb250ZW50KGh0bWxfODhhMTcxMzVhZTM1NDczZDkwNjFjZDM0MDc4NGJkYTApOwogICAgICAgIAoKICAgICAgICBjaXJjbGVfbWFya2VyX2I3YWFkNDk1NzkzYjRiZjk4YWE1OWRlYjRlNTk2NjE5LmJpbmRQb3B1cChwb3B1cF82N2MxMWY3NDA3MDM0MDM5OTFkNjQxYzEzOGQ5Y2RkNSkKICAgICAgICA7CgogICAgICAgIAogICAgCiAgICAKICAgICAgICAgICAgdmFyIGNpcmNsZV9tYXJrZXJfNWU0YzBlODNkNTI5NGVkMGIxMzU0Y2M0N2MzM2Q3NmEgPSBMLmNpcmNsZU1hcmtlcigKICAgICAgICAgICAgICAgIFs0My42NTA1NzEyMDAwMDAwMSwgLTc5LjM4NDU2NzVdLAogICAgICAgICAgICAgICAgeyJidWJibGluZ01vdXNlRXZlbnRzIjogdHJ1ZSwgImNvbG9yIjogImJsdWUiLCAiZGFzaEFycmF5IjogbnVsbCwgImRhc2hPZmZzZXQiOiBudWxsLCAiZmlsbCI6IHRydWUsICJmaWxsQ29sb3IiOiAiIzMxODZjYyIsICJmaWxsT3BhY2l0eSI6IDAuNywgImZpbGxSdWxlIjogImV2ZW5vZGQiLCAibGluZUNhcCI6ICJyb3VuZCIsICJsaW5lSm9pbiI6ICJyb3VuZCIsICJvcGFjaXR5IjogMS4wLCAicmFkaXVzIjogNSwgInN0cm9rZSI6IHRydWUsICJ3ZWlnaHQiOiAzfQogICAgICAgICAgICApLmFkZFRvKG1hcF83YjY1NGI0ODI3ZTQ0MjNjYjkxNzRhNDI0YjIyNWNiOSk7CiAgICAgICAgCiAgICAKICAgICAgICB2YXIgcG9wdXBfMmFjZmRlMTExOTQxNGE1MzlmMDkzYzFhMGI4ZDcxYTEgPSBMLnBvcHVwKHsibWF4V2lkdGgiOiAiMTAwJSJ9KTsKCiAgICAgICAgCiAgICAgICAgICAgIHZhciBodG1sXzYwYzA0NGM4OWNmNzRlZWE4YWRhOGI0YzNkOWM0YTkyID0gJChgPGRpdiBpZD0iaHRtbF82MGMwNDRjODljZjc0ZWVhOGFkYThiNGMzZDljNGE5MiIgc3R5bGU9IndpZHRoOiAxMDAuMCU7IGhlaWdodDogMTAwLjAlOyI+QWRlbGFpZGUsIEtpbmcsIFJpY2htb25kLCBEb3dudG93biBUb3JvbnRvPC9kaXY+YClbMF07CiAgICAgICAgICAgIHBvcHVwXzJhY2ZkZTExMTk0MTRhNTM5ZjA5M2MxYTBiOGQ3MWExLnNldENvbnRlbnQoaHRtbF82MGMwNDRjODljZjc0ZWVhOGFkYThiNGMzZDljNGE5Mik7CiAgICAgICAgCgogICAgICAgIGNpcmNsZV9tYXJrZXJfNWU0YzBlODNkNTI5NGVkMGIxMzU0Y2M0N2MzM2Q3NmEuYmluZFBvcHVwKHBvcHVwXzJhY2ZkZTExMTk0MTRhNTM5ZjA5M2MxYTBiOGQ3MWExKQogICAgICAgIDsKCiAgICAgICAgCiAgICAKICAgIAogICAgICAgICAgICB2YXIgY2lyY2xlX21hcmtlcl9iZTAyN2FlZWFhNWY0OGJiOGY3N2JjNjNhZWE0NTRiZSA9IEwuY2lyY2xlTWFya2VyKAogICAgICAgICAgICAgICAgWzQzLjY1MDU3MTIwMDAwMDAxLCAtNzkuMzg0NTY3NV0sCiAgICAgICAgICAgICAgICB7ImJ1YmJsaW5nTW91c2VFdmVudHMiOiB0cnVlLCAiY29sb3IiOiAiYmx1ZSIsICJkYXNoQXJyYXkiOiBudWxsLCAiZGFzaE9mZnNldCI6IG51bGwsICJmaWxsIjogdHJ1ZSwgImZpbGxDb2xvciI6ICIjMzE4NmNjIiwgImZpbGxPcGFjaXR5IjogMC43LCAiZmlsbFJ1bGUiOiAiZXZlbm9kZCIsICJsaW5lQ2FwIjogInJvdW5kIiwgImxpbmVKb2luIjogInJvdW5kIiwgIm9wYWNpdHkiOiAxLjAsICJyYWRpdXMiOiA1LCAic3Ryb2tlIjogdHJ1ZSwgIndlaWdodCI6IDN9CiAgICAgICAgICAgICkuYWRkVG8obWFwXzdiNjU0YjQ4MjdlNDQyM2NiOTE3NGE0MjRiMjI1Y2I5KTsKICAgICAgICAKICAgIAogICAgICAgIHZhciBwb3B1cF9iNDNmNWYyZWQ4N2U0ZTQ3YjZjNDk0ODBmN2JmNDk1NyA9IEwucG9wdXAoeyJtYXhXaWR0aCI6ICIxMDAlIn0pOwoKICAgICAgICAKICAgICAgICAgICAgdmFyIGh0bWxfOTIzNDg0ZGIyODAwNDRkZDlhNmNhZmMxMDEwNjkwMDEgPSAkKGA8ZGl2IGlkPSJodG1sXzkyMzQ4NGRiMjgwMDQ0ZGQ5YTZjYWZjMTAxMDY5MDAxIiBzdHlsZT0id2lkdGg6IDEwMC4wJTsgaGVpZ2h0OiAxMDAuMCU7Ij5BZGVsYWlkZSwgS2luZywgUmljaG1vbmQsIERvd250b3duIFRvcm9udG88L2Rpdj5gKVswXTsKICAgICAgICAgICAgcG9wdXBfYjQzZjVmMmVkODdlNGU0N2I2YzQ5NDgwZjdiZjQ5NTcuc2V0Q29udGVudChodG1sXzkyMzQ4NGRiMjgwMDQ0ZGQ5YTZjYWZjMTAxMDY5MDAxKTsKICAgICAgICAKCiAgICAgICAgY2lyY2xlX21hcmtlcl9iZTAyN2FlZWFhNWY0OGJiOGY3N2JjNjNhZWE0NTRiZS5iaW5kUG9wdXAocG9wdXBfYjQzZjVmMmVkODdlNGU0N2I2YzQ5NDgwZjdiZjQ5NTcpCiAgICAgICAgOwoKICAgICAgICAKICAgIAogICAgCiAgICAgICAgICAgIHZhciBjaXJjbGVfbWFya2VyX2RjYzIzNDQwZTZjYTQzNTY4MWE4MGVmMmZiNWQ4NWFlID0gTC5jaXJjbGVNYXJrZXIoCiAgICAgICAgICAgICAgICBbNDMuNjQwODE1NywgLTc5LjM4MTc1MjI5OTk5OTk3XSwKICAgICAgICAgICAgICAgIHsiYnViYmxpbmdNb3VzZUV2ZW50cyI6IHRydWUsICJjb2xvciI6ICJibHVlIiwgImRhc2hBcnJheSI6IG51bGwsICJkYXNoT2Zmc2V0IjogbnVsbCwgImZpbGwiOiB0cnVlLCAiZmlsbENvbG9yIjogIiMzMTg2Y2MiLCAiZmlsbE9wYWNpdHkiOiAwLjcsICJmaWxsUnVsZSI6ICJldmVub2RkIiwgImxpbmVDYXAiOiAicm91bmQiLCAibGluZUpvaW4iOiAicm91bmQiLCAib3BhY2l0eSI6IDEuMCwgInJhZGl1cyI6IDUsICJzdHJva2UiOiB0cnVlLCAid2VpZ2h0IjogM30KICAgICAgICAgICAgKS5hZGRUbyhtYXBfN2I2NTRiNDgyN2U0NDIzY2I5MTc0YTQyNGIyMjVjYjkpOwogICAgICAgIAogICAgCiAgICAgICAgdmFyIHBvcHVwX2UzZjAyZTAyYWM0MjQ4Y2I5NTM5ODU3NzNjMGE0Njc3ID0gTC5wb3B1cCh7Im1heFdpZHRoIjogIjEwMCUifSk7CgogICAgICAgIAogICAgICAgICAgICB2YXIgaHRtbF8zOGUyZGMwN2MwZDY0M2Q4OGRhNzM1ZjMzNDEzYmU3OSA9ICQoYDxkaXYgaWQ9Imh0bWxfMzhlMmRjMDdjMGQ2NDNkODhkYTczNWYzMzQxM2JlNzkiIHN0eWxlPSJ3aWR0aDogMTAwLjAlOyBoZWlnaHQ6IDEwMC4wJTsiPkhhcmJvdXJmcm9udCBFYXN0LCBUb3JvbnRvIElzbGFuZHMsIFVuaW9uIFN0YXRpb24sIERvd250b3duIFRvcm9udG88L2Rpdj5gKVswXTsKICAgICAgICAgICAgcG9wdXBfZTNmMDJlMDJhYzQyNDhjYjk1Mzk4NTc3M2MwYTQ2Nzcuc2V0Q29udGVudChodG1sXzM4ZTJkYzA3YzBkNjQzZDg4ZGE3MzVmMzM0MTNiZTc5KTsKICAgICAgICAKCiAgICAgICAgY2lyY2xlX21hcmtlcl9kY2MyMzQ0MGU2Y2E0MzU2ODFhODBlZjJmYjVkODVhZS5iaW5kUG9wdXAocG9wdXBfZTNmMDJlMDJhYzQyNDhjYjk1Mzk4NTc3M2MwYTQ2NzcpCiAgICAgICAgOwoKICAgICAgICAKICAgIAogICAgCiAgICAgICAgICAgIHZhciBjaXJjbGVfbWFya2VyXzI4ZDE5YzMyN2E4MzRhYTlhZDE0ODIxZWRmMGQ4YTA2ID0gTC5jaXJjbGVNYXJrZXIoCiAgICAgICAgICAgICAgICBbNDMuNjQ3MTc2OCwgLTc5LjM4MTU3NjQwMDAwMDAxXSwKICAgICAgICAgICAgICAgIHsiYnViYmxpbmdNb3VzZUV2ZW50cyI6IHRydWUsICJjb2xvciI6ICJibHVlIiwgImRhc2hBcnJheSI6IG51bGwsICJkYXNoT2Zmc2V0IjogbnVsbCwgImZpbGwiOiB0cnVlLCAiZmlsbENvbG9yIjogIiMzMTg2Y2MiLCAiZmlsbE9wYWNpdHkiOiAwLjcsICJmaWxsUnVsZSI6ICJldmVub2RkIiwgImxpbmVDYXAiOiAicm91bmQiLCAibGluZUpvaW4iOiAicm91bmQiLCAib3BhY2l0eSI6IDEuMCwgInJhZGl1cyI6IDUsICJzdHJva2UiOiB0cnVlLCAid2VpZ2h0IjogM30KICAgICAgICAgICAgKS5hZGRUbyhtYXBfN2I2NTRiNDgyN2U0NDIzY2I5MTc0YTQyNGIyMjVjYjkpOwogICAgICAgIAogICAgCiAgICAgICAgdmFyIHBvcHVwXzkyNmMyNDYwMzRlMjQzZDY4NmFkNjAxMjRiNjIxNTE4ID0gTC5wb3B1cCh7Im1heFdpZHRoIjogIjEwMCUifSk7CgogICAgICAgIAogICAgICAgICAgICB2YXIgaHRtbF85MWU0MDdlZTFjNWI0MGFkYTZlODVmNzU0MDEyYmM3MiA9ICQoYDxkaXYgaWQ9Imh0bWxfOTFlNDA3ZWUxYzViNDBhZGE2ZTg1Zjc1NDAxMmJjNzIiIHN0eWxlPSJ3aWR0aDogMTAwLjAlOyBoZWlnaHQ6IDEwMC4wJTsiPkRlc2lnbiBFeGNoYW5nZSwgVG9yb250byBEb21pbmlvbiBDZW50cmUsIERvd250b3duIFRvcm9udG88L2Rpdj5gKVswXTsKICAgICAgICAgICAgcG9wdXBfOTI2YzI0NjAzNGUyNDNkNjg2YWQ2MDEyNGI2MjE1MTguc2V0Q29udGVudChodG1sXzkxZTQwN2VlMWM1YjQwYWRhNmU4NWY3NTQwMTJiYzcyKTsKICAgICAgICAKCiAgICAgICAgY2lyY2xlX21hcmtlcl8yOGQxOWMzMjdhODM0YWE5YWQxNDgyMWVkZjBkOGEwNi5iaW5kUG9wdXAocG9wdXBfOTI2YzI0NjAzNGUyNDNkNjg2YWQ2MDEyNGI2MjE1MTgpCiAgICAgICAgOwoKICAgICAgICAKICAgIAogICAgCiAgICAgICAgICAgIHZhciBjaXJjbGVfbWFya2VyX2E2OGViNGE4YTBiZjQzNDlhNDdiNzk2ZTg0N2M3ZDkxID0gTC5jaXJjbGVNYXJrZXIoCiAgICAgICAgICAgICAgICBbNDMuNjUxNTcwNiwgLTc5LjQ4NDQ0OTldLAogICAgICAgICAgICAgICAgeyJidWJibGluZ01vdXNlRXZlbnRzIjogdHJ1ZSwgImNvbG9yIjogImJsdWUiLCAiZGFzaEFycmF5IjogbnVsbCwgImRhc2hPZmZzZXQiOiBudWxsLCAiZmlsbCI6IHRydWUsICJmaWxsQ29sb3IiOiAiIzMxODZjYyIsICJmaWxsT3BhY2l0eSI6IDAuNywgImZpbGxSdWxlIjogImV2ZW5vZGQiLCAibGluZUNhcCI6ICJyb3VuZCIsICJsaW5lSm9pbiI6ICJyb3VuZCIsICJvcGFjaXR5IjogMS4wLCAicmFkaXVzIjogNSwgInN0cm9rZSI6IHRydWUsICJ3ZWlnaHQiOiAzfQogICAgICAgICAgICApLmFkZFRvKG1hcF83YjY1NGI0ODI3ZTQ0MjNjYjkxNzRhNDI0YjIyNWNiOSk7CiAgICAgICAgCiAgICAKICAgICAgICB2YXIgcG9wdXBfMjdmNzMwOTExNDIyNGNhY2E3MTkyNWQ4NzEzMDJkODkgPSBMLnBvcHVwKHsibWF4V2lkdGgiOiAiMTAwJSJ9KTsKCiAgICAgICAgCiAgICAgICAgICAgIHZhciBodG1sXzMxNzU4YzA1YjkzMjQxMWQ4MGZiZDNjNWE2NDliYzllID0gJChgPGRpdiBpZD0iaHRtbF8zMTc1OGMwNWI5MzI0MTFkODBmYmQzYzVhNjQ5YmM5ZSIgc3R5bGU9IndpZHRoOiAxMDAuMCU7IGhlaWdodDogMTAwLjAlOyI+UnVubnltZWRlLCBTd2Fuc2VhLCBXZXN0IFRvcm9udG88L2Rpdj5gKVswXTsKICAgICAgICAgICAgcG9wdXBfMjdmNzMwOTExNDIyNGNhY2E3MTkyNWQ4NzEzMDJkODkuc2V0Q29udGVudChodG1sXzMxNzU4YzA1YjkzMjQxMWQ4MGZiZDNjNWE2NDliYzllKTsKICAgICAgICAKCiAgICAgICAgY2lyY2xlX21hcmtlcl9hNjhlYjRhOGEwYmY0MzQ5YTQ3Yjc5NmU4NDdjN2Q5MS5iaW5kUG9wdXAocG9wdXBfMjdmNzMwOTExNDIyNGNhY2E3MTkyNWQ4NzEzMDJkODkpCiAgICAgICAgOwoKICAgICAgICAKICAgIAogICAgCiAgICAgICAgICAgIHZhciBtYXJrZXJfN2ZmNjk2NTNmZWU2NGI1OGE5OGZiZmQyMjlkNWNjYzggPSBMLm1hcmtlcigKICAgICAgICAgICAgICAgIFs0My42Nzk1NTcxLCAtNzkuMzUyMTg4XSwKICAgICAgICAgICAgICAgIHt9CiAgICAgICAgICAgICkuYWRkVG8obWFwXzdiNjU0YjQ4MjdlNDQyM2NiOTE3NGE0MjRiMjI1Y2I5KTsKICAgICAgICAKICAgIAogICAgICAgIHZhciBwb3B1cF80OGUyM2YwYWE4YmE0NjU1YTRhNDc5MDk0YTczMzM4OCA9IEwucG9wdXAoeyJtYXhXaWR0aCI6ICIxMDAlIn0pOwoKICAgICAgICAKICAgICAgICAgICAgdmFyIGh0bWxfNmNjYzJmNTY0ZmUxNDcxNDk4MDBhZGQ3YmY4ZWI1OTcgPSAkKGA8ZGl2IGlkPSJodG1sXzZjY2MyZjU2NGZlMTQ3MTQ5ODAwYWRkN2JmOGViNTk3IiBzdHlsZT0id2lkdGg6IDEwMC4wJTsgaGVpZ2h0OiAxMDAuMCU7Ij5FYXN0IFRvcm9udG88L2Rpdj5gKVswXTsKICAgICAgICAgICAgcG9wdXBfNDhlMjNmMGFhOGJhNDY1NWE0YTQ3OTA5NGE3MzMzODguc2V0Q29udGVudChodG1sXzZjY2MyZjU2NGZlMTQ3MTQ5ODAwYWRkN2JmOGViNTk3KTsKICAgICAgICAKCiAgICAgICAgbWFya2VyXzdmZjY5NjUzZmVlNjRiNThhOThmYmZkMjI5ZDVjY2M4LmJpbmRQb3B1cChwb3B1cF80OGUyM2YwYWE4YmE0NjU1YTRhNDc5MDk0YTczMzM4OCkKICAgICAgICA7CgogICAgICAgIAogICAgCiAgICAKICAgICAgICAgICAgdmFyIG1hcmtlcl9iYTc5MjM4ZjkzYTM0MDVhYWE3YzM3MGJiYTMyMzA3ZSA9IEwubWFya2VyKAogICAgICAgICAgICAgICAgWzQzLjY2NTg1OTksIC03OS4zODMxNTk5MDAwMDAwMl0sCiAgICAgICAgICAgICAgICB7fQogICAgICAgICAgICApLmFkZFRvKG1hcF83YjY1NGI0ODI3ZTQ0MjNjYjkxNzRhNDI0YjIyNWNiOSk7CiAgICAgICAgCiAgICAKICAgICAgICB2YXIgcG9wdXBfYzAwZmE2OWVhMzMwNGM1YWIzZmQ3MmY2MWRhODBiNTkgPSBMLnBvcHVwKHsibWF4V2lkdGgiOiAiMTAwJSJ9KTsKCiAgICAgICAgCiAgICAgICAgICAgIHZhciBodG1sXzE1YjNlZTE1YmM4MjRjNTE4MmU5OGQzMGI2MWFjYWI1ID0gJChgPGRpdiBpZD0iaHRtbF8xNWIzZWUxNWJjODI0YzUxODJlOThkMzBiNjFhY2FiNSIgc3R5bGU9IndpZHRoOiAxMDAuMCU7IGhlaWdodDogMTAwLjAlOyI+RG93bnRvd24gVG9yb250bzwvZGl2PmApWzBdOwogICAgICAgICAgICBwb3B1cF9jMDBmYTY5ZWEzMzA0YzVhYjNmZDcyZjYxZGE4MGI1OS5zZXRDb250ZW50KGh0bWxfMTViM2VlMTViYzgyNGM1MTgyZTk4ZDMwYjYxYWNhYjUpOwogICAgICAgIAoKICAgICAgICBtYXJrZXJfYmE3OTIzOGY5M2EzNDA1YWFhN2MzNzBiYmEzMjMwN2UuYmluZFBvcHVwKHBvcHVwX2MwMGZhNjllYTMzMDRjNWFiM2ZkNzJmNjFkYTgwYjU5KQogICAgICAgIDsKCiAgICAgICAgCiAgICAKICAgIAogICAgICAgICAgICB2YXIgbWFya2VyX2NjMDcxMDJmODNkNTQwNzliMzIyNDA4ZjViZmM5NjExID0gTC5tYXJrZXIoCiAgICAgICAgICAgICAgICBbNDMuNjU3MTYxOCwgLTc5LjM3ODkzNzA5OTk5OTk5XSwKICAgICAgICAgICAgICAgIHt9CiAgICAgICAgICAgICkuYWRkVG8obWFwXzdiNjU0YjQ4MjdlNDQyM2NiOTE3NGE0MjRiMjI1Y2I5KTsKICAgICAgICAKICAgIAogICAgICAgIHZhciBwb3B1cF8wM2ZlZGNmZDhiNTY0M2Q4YTA3Yjg0MDYzNWFmNmU4MyA9IEwucG9wdXAoeyJtYXhXaWR0aCI6ICIxMDAlIn0pOwoKICAgICAgICAKICAgICAgICAgICAgdmFyIGh0bWxfM2EzODhlZTQ3YTE3NDVmMWFjOTM3ZjhiYTY1MTVlM2UgPSAkKGA8ZGl2IGlkPSJodG1sXzNhMzg4ZWU0N2ExNzQ1ZjFhYzkzN2Y4YmE2NTE1ZTNlIiBzdHlsZT0id2lkdGg6IDEwMC4wJTsgaGVpZ2h0OiAxMDAuMCU7Ij5Eb3dudG93biBUb3JvbnRvPC9kaXY+YClbMF07CiAgICAgICAgICAgIHBvcHVwXzAzZmVkY2ZkOGI1NjQzZDhhMDdiODQwNjM1YWY2ZTgzLnNldENvbnRlbnQoaHRtbF8zYTM4OGVlNDdhMTc0NWYxYWM5MzdmOGJhNjUxNWUzZSk7CiAgICAgICAgCgogICAgICAgIG1hcmtlcl9jYzA3MTAyZjgzZDU0MDc5YjMyMjQwOGY1YmZjOTYxMS5iaW5kUG9wdXAocG9wdXBfMDNmZWRjZmQ4YjU2NDNkOGEwN2I4NDA2MzVhZjZlODMpCiAgICAgICAgOwoKICAgICAgICAKICAgIAogICAgCiAgICAgICAgICAgIHZhciBtYXJrZXJfY2JmMmQwODE2YmRmNDE3ZDhlYmNkNzJjYTZjZDFlNzUgPSBMLm1hcmtlcigKICAgICAgICAgICAgICAgIFs0My42NTc5NTI0LCAtNzkuMzg3MzgyNl0sCiAgICAgICAgICAgICAgICB7fQogICAgICAgICAgICApLmFkZFRvKG1hcF83YjY1NGI0ODI3ZTQ0MjNjYjkxNzRhNDI0YjIyNWNiOSk7CiAgICAgICAgCiAgICAKICAgICAgICB2YXIgcG9wdXBfNWE1ODQzMjQ0NjA0NDhkM2IzMzIwODZhYjJkZmU2ZDkgPSBMLnBvcHVwKHsibWF4V2lkdGgiOiAiMTAwJSJ9KTsKCiAgICAgICAgCiAgICAgICAgICAgIHZhciBodG1sXzlmODQ1MmUwMGJkMTRjMWE5MDJhZWU5MmY2YmNmYmE1ID0gJChgPGRpdiBpZD0iaHRtbF85Zjg0NTJlMDBiZDE0YzFhOTAyYWVlOTJmNmJjZmJhNSIgc3R5bGU9IndpZHRoOiAxMDAuMCU7IGhlaWdodDogMTAwLjAlOyI+RG93bnRvd24gVG9yb250bzwvZGl2PmApWzBdOwogICAgICAgICAgICBwb3B1cF81YTU4NDMyNDQ2MDQ0OGQzYjMzMjA4NmFiMmRmZTZkOS5zZXRDb250ZW50KGh0bWxfOWY4NDUyZTAwYmQxNGMxYTkwMmFlZTkyZjZiY2ZiYTUpOwogICAgICAgIAoKICAgICAgICBtYXJrZXJfY2JmMmQwODE2YmRmNDE3ZDhlYmNkNzJjYTZjZDFlNzUuYmluZFBvcHVwKHBvcHVwXzVhNTg0MzI0NDYwNDQ4ZDNiMzMyMDg2YWIyZGZlNmQ5KQogICAgICAgIDsKCiAgICAgICAgCiAgICAKICAgIAogICAgICAgICAgICB2YXIgbWFya2VyXzQzM2I5ODdiNmEyZTRmOGJhZmYwMTlhZTcwODA4OTY2ID0gTC5tYXJrZXIoCiAgICAgICAgICAgICAgICBbNDMuNjU3OTUyNCwgLTc5LjM4NzM4MjZdLAogICAgICAgICAgICAgICAge30KICAgICAgICAgICAgKS5hZGRUbyhtYXBfN2I2NTRiNDgyN2U0NDIzY2I5MTc0YTQyNGIyMjVjYjkpOwogICAgICAgIAogICAgCiAgICAgICAgdmFyIHBvcHVwXzM0ZDVmNTFjMTBiNDQ1YmQ4OTgyNGM0NmIyNmEyODM3ID0gTC5wb3B1cCh7Im1heFdpZHRoIjogIjEwMCUifSk7CgogICAgICAgIAogICAgICAgICAgICB2YXIgaHRtbF9iMGZmNzZlMzI2MmM0ZWEzOGIzYzMyZDg2MTcyYTFhZSA9ICQoYDxkaXYgaWQ9Imh0bWxfYjBmZjc2ZTMyNjJjNGVhMzhiM2MzMmQ4NjE3MmExYWUiIHN0eWxlPSJ3aWR0aDogMTAwLjAlOyBoZWlnaHQ6IDEwMC4wJTsiPkRvd250b3duIFRvcm9udG88L2Rpdj5gKVswXTsKICAgICAgICAgICAgcG9wdXBfMzRkNWY1MWMxMGI0NDViZDg5ODI0YzQ2YjI2YTI4Mzcuc2V0Q29udGVudChodG1sX2IwZmY3NmUzMjYyYzRlYTM4YjNjMzJkODYxNzJhMWFlKTsKICAgICAgICAKCiAgICAgICAgbWFya2VyXzQzM2I5ODdiNmEyZTRmOGJhZmYwMTlhZTcwODA4OTY2LmJpbmRQb3B1cChwb3B1cF8zNGQ1ZjUxYzEwYjQ0NWJkODk4MjRjNDZiMjZhMjgzNykKICAgICAgICA7CgogICAgICAgIAogICAgCiAgICAKICAgICAgICAgICAgdmFyIG1hcmtlcl83Y2UxODNjN2E1ZjA0NDhmODFlYWI1MDMxOTg4NmU2NSA9IEwubWFya2VyKAogICAgICAgICAgICAgICAgWzQzLjY1MDU3MTIwMDAwMDAxLCAtNzkuMzg0NTY3NV0sCiAgICAgICAgICAgICAgICB7fQogICAgICAgICAgICApLmFkZFRvKG1hcF83YjY1NGI0ODI3ZTQ0MjNjYjkxNzRhNDI0YjIyNWNiOSk7CiAgICAgICAgCiAgICAKICAgICAgICB2YXIgcG9wdXBfMWY4MWQ1YzM5MTc4NGIxNDllNzIwNzhiYTIwYTEzZmUgPSBMLnBvcHVwKHsibWF4V2lkdGgiOiAiMTAwJSJ9KTsKCiAgICAgICAgCiAgICAgICAgICAgIHZhciBodG1sXzZjM2E5ZDExM2FhZTQ2Zjc5ZGMxZjk1YWZlNTUwMzMxID0gJChgPGRpdiBpZD0iaHRtbF82YzNhOWQxMTNhYWU0NmY3OWRjMWY5NWFmZTU1MDMzMSIgc3R5bGU9IndpZHRoOiAxMDAuMCU7IGhlaWdodDogMTAwLjAlOyI+RG93bnRvd24gVG9yb250bzwvZGl2PmApWzBdOwogICAgICAgICAgICBwb3B1cF8xZjgxZDVjMzkxNzg0YjE0OWU3MjA3OGJhMjBhMTNmZS5zZXRDb250ZW50KGh0bWxfNmMzYTlkMTEzYWFlNDZmNzlkYzFmOTVhZmU1NTAzMzEpOwogICAgICAgIAoKICAgICAgICBtYXJrZXJfN2NlMTgzYzdhNWYwNDQ4ZjgxZWFiNTAzMTk4ODZlNjUuYmluZFBvcHVwKHBvcHVwXzFmODFkNWMzOTE3ODRiMTQ5ZTcyMDc4YmEyMGExM2ZlKQogICAgICAgIDsKCiAgICAgICAgCiAgICAKICAgIAogICAgICAgICAgICB2YXIgbWFya2VyXzhjYjRiODA0NDlhZjRlOGI4YjYzM2M5MmQzMmJhZTVlID0gTC5tYXJrZXIoCiAgICAgICAgICAgICAgICBbNDMuNjUwNTcxMjAwMDAwMDEsIC03OS4zODQ1Njc1XSwKICAgICAgICAgICAgICAgIHt9CiAgICAgICAgICAgICkuYWRkVG8obWFwXzdiNjU0YjQ4MjdlNDQyM2NiOTE3NGE0MjRiMjI1Y2I5KTsKICAgICAgICAKICAgIAogICAgICAgIHZhciBwb3B1cF85Zjk2N2M5ODMyMTI0OGI3ODJjZTZlNWI1YmFlMDcyZCA9IEwucG9wdXAoeyJtYXhXaWR0aCI6ICIxMDAlIn0pOwoKICAgICAgICAKICAgICAgICAgICAgdmFyIGh0bWxfNjMxY2U4NGJiYjZmNGFlZDgxNjBmNmU2NDRiODczNzQgPSAkKGA8ZGl2IGlkPSJodG1sXzYzMWNlODRiYmI2ZjRhZWQ4MTYwZjZlNjQ0Yjg3Mzc0IiBzdHlsZT0id2lkdGg6IDEwMC4wJTsgaGVpZ2h0OiAxMDAuMCU7Ij5Eb3dudG93biBUb3JvbnRvPC9kaXY+YClbMF07CiAgICAgICAgICAgIHBvcHVwXzlmOTY3Yzk4MzIxMjQ4Yjc4MmNlNmU1YjViYWUwNzJkLnNldENvbnRlbnQoaHRtbF82MzFjZTg0YmJiNmY0YWVkODE2MGY2ZTY0NGI4NzM3NCk7CiAgICAgICAgCgogICAgICAgIG1hcmtlcl84Y2I0YjgwNDQ5YWY0ZThiOGI2MzNjOTJkMzJiYWU1ZS5iaW5kUG9wdXAocG9wdXBfOWY5NjdjOTgzMjEyNDhiNzgyY2U2ZTViNWJhZTA3MmQpCiAgICAgICAgOwoKICAgICAgICAKICAgIAogICAgCiAgICAgICAgICAgIHZhciBtYXJrZXJfZmYxMmQwZTJmODI4NGNiZjgxZTExYzc5Njk3NGRmMDcgPSBMLm1hcmtlcigKICAgICAgICAgICAgICAgIFs0My42NDA4MTU3LCAtNzkuMzgxNzUyMjk5OTk5OTddLAogICAgICAgICAgICAgICAge30KICAgICAgICAgICAgKS5hZGRUbyhtYXBfN2I2NTRiNDgyN2U0NDIzY2I5MTc0YTQyNGIyMjVjYjkpOwogICAgICAgIAogICAgCiAgICAgICAgdmFyIHBvcHVwXzM3ZmRhY2UyNTQyNTQ3N2ViMmQxZjYwOGUxZjBhZGE3ID0gTC5wb3B1cCh7Im1heFdpZHRoIjogIjEwMCUifSk7CgogICAgICAgIAogICAgICAgICAgICB2YXIgaHRtbF9lYWFkM2QxY2Y0YTI0NThjOGVjNmJhNzg1NDAwMTEzZiA9ICQoYDxkaXYgaWQ9Imh0bWxfZWFhZDNkMWNmNGEyNDU4YzhlYzZiYTc4NTQwMDExM2YiIHN0eWxlPSJ3aWR0aDogMTAwLjAlOyBoZWlnaHQ6IDEwMC4wJTsiPkRvd250b3duIFRvcm9udG88L2Rpdj5gKVswXTsKICAgICAgICAgICAgcG9wdXBfMzdmZGFjZTI1NDI1NDc3ZWIyZDFmNjA4ZTFmMGFkYTcuc2V0Q29udGVudChodG1sX2VhYWQzZDFjZjRhMjQ1OGM4ZWM2YmE3ODU0MDAxMTNmKTsKICAgICAgICAKCiAgICAgICAgbWFya2VyX2ZmMTJkMGUyZjgyODRjYmY4MWUxMWM3OTY5NzRkZjA3LmJpbmRQb3B1cChwb3B1cF8zN2ZkYWNlMjU0MjU0NzdlYjJkMWY2MDhlMWYwYWRhNykKICAgICAgICA7CgogICAgICAgIAogICAgCiAgICAKICAgICAgICAgICAgdmFyIG1hcmtlcl9iOTRlZTNmYzE3Mjg0YmNhYTA2ZDc0YWRhMzU0MmYyMyA9IEwubWFya2VyKAogICAgICAgICAgICAgICAgWzQzLjY0NzE3NjgsIC03OS4zODE1NzY0MDAwMDAwMV0sCiAgICAgICAgICAgICAgICB7fQogICAgICAgICAgICApLmFkZFRvKG1hcF83YjY1NGI0ODI3ZTQ0MjNjYjkxNzRhNDI0YjIyNWNiOSk7CiAgICAgICAgCiAgICAKICAgICAgICB2YXIgcG9wdXBfODQ5ZGYxYjY4MThhNDhhNzg4N2JmZTk0NzgyMTRiZTQgPSBMLnBvcHVwKHsibWF4V2lkdGgiOiAiMTAwJSJ9KTsKCiAgICAgICAgCiAgICAgICAgICAgIHZhciBodG1sXzVmMmYyYTBlOGFkOTQxZTA4N2JmNzY2MTcxNjc2NDU1ID0gJChgPGRpdiBpZD0iaHRtbF81ZjJmMmEwZThhZDk0MWUwODdiZjc2NjE3MTY3NjQ1NSIgc3R5bGU9IndpZHRoOiAxMDAuMCU7IGhlaWdodDogMTAwLjAlOyI+RG93bnRvd24gVG9yb250bzwvZGl2PmApWzBdOwogICAgICAgICAgICBwb3B1cF84NDlkZjFiNjgxOGE0OGE3ODg3YmZlOTQ3ODIxNGJlNC5zZXRDb250ZW50KGh0bWxfNWYyZjJhMGU4YWQ5NDFlMDg3YmY3NjYxNzE2NzY0NTUpOwogICAgICAgIAoKICAgICAgICBtYXJrZXJfYjk0ZWUzZmMxNzI4NGJjYWEwNmQ3NGFkYTM1NDJmMjMuYmluZFBvcHVwKHBvcHVwXzg0OWRmMWI2ODE4YTQ4YTc4ODdiZmU5NDc4MjE0YmU0KQogICAgICAgIDsKCiAgICAgICAgCiAgICAKICAgIAogICAgICAgICAgICB2YXIgbWFya2VyXzI5ZWYyMjQ0NmYzODQ2ZDA5NTk4MWUxNDc5M2I0ZjRkID0gTC5tYXJrZXIoCiAgICAgICAgICAgICAgICBbNDMuNjUxNTcwNiwgLTc5LjQ4NDQ0OTldLAogICAgICAgICAgICAgICAge30KICAgICAgICAgICAgKS5hZGRUbyhtYXBfN2I2NTRiNDgyN2U0NDIzY2I5MTc0YTQyNGIyMjVjYjkpOwogICAgICAgIAogICAgCiAgICAgICAgdmFyIHBvcHVwXzBmMTkxMzkyYWY2ZjQwMzg4MTViMWE3Mjk0MjFjOWM5ID0gTC5wb3B1cCh7Im1heFdpZHRoIjogIjEwMCUifSk7CgogICAgICAgIAogICAgICAgICAgICB2YXIgaHRtbF81Y2Y3ZjIyOWVjNDY0Y2Q2YTdjNGVmNjRiOWNmNGUwNyA9ICQoYDxkaXYgaWQ9Imh0bWxfNWNmN2YyMjllYzQ2NGNkNmE3YzRlZjY0YjljZjRlMDciIHN0eWxlPSJ3aWR0aDogMTAwLjAlOyBoZWlnaHQ6IDEwMC4wJTsiPldlc3QgVG9yb250bzwvZGl2PmApWzBdOwogICAgICAgICAgICBwb3B1cF8wZjE5MTM5MmFmNmY0MDM4ODE1YjFhNzI5NDIxYzljOS5zZXRDb250ZW50KGh0bWxfNWNmN2YyMjllYzQ2NGNkNmE3YzRlZjY0YjljZjRlMDcpOwogICAgICAgIAoKICAgICAgICBtYXJrZXJfMjllZjIyNDQ2ZjM4NDZkMDk1OTgxZTE0NzkzYjRmNGQuYmluZFBvcHVwKHBvcHVwXzBmMTkxMzkyYWY2ZjQwMzg4MTViMWE3Mjk0MjFjOWM5KQogICAgICAgIDsKCiAgICAgICAgCiAgICAKICAgIAogICAgICAgICAgICB2YXIgZmVhdHVyZV9ncm91cF9iNDU3Nzk3ODMxMDU0ZGMyYTYwMjZiMzM5MjZkNDE2MCA9IEwuZmVhdHVyZUdyb3VwKAogICAgICAgICAgICAgICAge30KICAgICAgICAgICAgKS5hZGRUbyhtYXBfN2I2NTRiNDgyN2U0NDIzY2I5MTc0YTQyNGIyMjVjYjkpOwogICAgICAgIAo8L3NjcmlwdD4= onload=\"this.contentDocument.open();this.contentDocument.write(atob(this.getAttribute('data-html')));this.contentDocument.close();\" allowfullscreen webkitallowfullscreen mozallowfullscreen></iframe></div></div>"
      ],
      "text/plain": [
       "<folium.folium.Map at 0x1db1839f908>"
      ]
     },
     "execution_count": 136,
     "metadata": {},
     "output_type": "execute_result"
    }
   ],
   "source": [
    "# instantiate a feature group for the incidents in the dataframe\n",
    "incidents = folium.map.FeatureGroup()\n",
    "map_toronto = folium.Map(location=[latitude, longitude], zoom_start=10)\n",
    "\n",
    "# add markers to map\n",
    "for lat, lng, borough, neighbourhood in zip(df_juice_bar['Latitude'], df_juice_bar['Longitude'],\n",
    "                                           df_juice_bar['Borough'], df_juice_bar['Neighbourhood']):\n",
    "    label = '{}, {}'.format(neighbourhood, borough)\n",
    "    label = folium.Popup(label, parse_html=True)\n",
    "    folium.CircleMarker(\n",
    "        [lat, lng],\n",
    "        radius=5,\n",
    "        popup=label,\n",
    "        color='blue',\n",
    "        fill=True,\n",
    "        fill_color='#3186cc',\n",
    "        fill_opacity=0.7,\n",
    "        parse_html=False).add_to(map_toronto)  \n",
    "    \n",
    "#map_toronto\n",
    "\n",
    "\n",
    "# add pop-up text to each marker on the map\n",
    "latitudes = list(df_juice_bar['Latitude'])\n",
    "longitudes = list(df_juice_bar['Longitude'])\n",
    "labels = list( df_juice_bar['Borough'])\n",
    "\n",
    "for lat, lng, label in zip(latitudes, longitudes, labels):\n",
    "    folium.Marker([lat, lng], popup=label).add_to(map_toronto)    \n",
    "    \n",
    "# add incidents to map\n",
    "map_toronto.add_child(incidents)"
   ]
  },
  {
   "cell_type": "markdown",
   "metadata": {},
   "source": [
    "__Findings__: As can be seen from the results, the number of Juice Bars are also highest in Downtown Toronto. \n",
    "In the beginning of the Problem, we defined that these two could be our potential customers.\n",
    "And for both the potential customers, Downtown Toronto is the good choice.\n",
    "\n",
    "This completes our analysis approach. Now after having an idea lets try to find out what comes\n",
    "from the results of machine learning."
   ]
  },
  {
   "cell_type": "markdown",
   "metadata": {},
   "source": [
    "## D.\tMachine Learning Technique:\n",
    "\n",
    "### Step 7: K-Means Clustering: \n",
    "\n",
    "We choose k-mean clustering because our problem is related to __cluster analysis__. \n",
    "\n",
    "As can be seen from the results of Exploratory data Analysis, in our problem as well we have clusters corresponding to different Boroughs.\n",
    "\n",
    "\n",
    "## Cluster Vegetarian/Vegan Restaurants \n",
    " As in the Exploratory Data Analysis section we will start with the Vegetarian Restaurants and then will  move to Juice Bars."
   ]
  },
  {
   "cell_type": "code",
   "execution_count": 88,
   "metadata": {},
   "outputs": [
    {
     "data": {
      "text/html": [
       "<div>\n",
       "<style scoped>\n",
       "    .dataframe tbody tr th:only-of-type {\n",
       "        vertical-align: middle;\n",
       "    }\n",
       "\n",
       "    .dataframe tbody tr th {\n",
       "        vertical-align: top;\n",
       "    }\n",
       "\n",
       "    .dataframe thead th {\n",
       "        text-align: right;\n",
       "    }\n",
       "</style>\n",
       "<table border=\"1\" class=\"dataframe\">\n",
       "  <thead>\n",
       "    <tr style=\"text-align: right;\">\n",
       "      <th></th>\n",
       "      <th>Cluster Labels</th>\n",
       "      <th>Postcode</th>\n",
       "      <th>Borough</th>\n",
       "      <th>Neighbourhood</th>\n",
       "      <th>ID</th>\n",
       "      <th>Name</th>\n",
       "      <th>Latitude</th>\n",
       "      <th>Longitude</th>\n",
       "    </tr>\n",
       "  </thead>\n",
       "  <tbody>\n",
       "    <tr>\n",
       "      <th>0</th>\n",
       "      <td>0</td>\n",
       "      <td>M5E</td>\n",
       "      <td>Downtown Toronto</td>\n",
       "      <td>Berczy Park</td>\n",
       "      <td>5b5bca904aa3f8002c97f85d</td>\n",
       "      <td>Fresh On Front</td>\n",
       "      <td>43.644771</td>\n",
       "      <td>-79.373306</td>\n",
       "    </tr>\n",
       "    <tr>\n",
       "      <th>1</th>\n",
       "      <td>0</td>\n",
       "      <td>M5H</td>\n",
       "      <td>Downtown Toronto</td>\n",
       "      <td>Adelaide, King, Richmond</td>\n",
       "      <td>5aff06ca6e4650002cc6286b</td>\n",
       "      <td>Rosalinda</td>\n",
       "      <td>43.650571</td>\n",
       "      <td>-79.384568</td>\n",
       "    </tr>\n",
       "    <tr>\n",
       "      <th>2</th>\n",
       "      <td>0</td>\n",
       "      <td>M5H</td>\n",
       "      <td>Downtown Toronto</td>\n",
       "      <td>Adelaide, King, Richmond</td>\n",
       "      <td>5c9d602f25fb7b002c79b669</td>\n",
       "      <td>Planta Queen</td>\n",
       "      <td>43.650571</td>\n",
       "      <td>-79.384568</td>\n",
       "    </tr>\n",
       "    <tr>\n",
       "      <th>3</th>\n",
       "      <td>0</td>\n",
       "      <td>M5J</td>\n",
       "      <td>Downtown Toronto</td>\n",
       "      <td>Harbourfront East, Toronto Islands, Union Station</td>\n",
       "      <td>5481b06c498ee191fa045a00</td>\n",
       "      <td>Kupfert &amp; Kim</td>\n",
       "      <td>43.640816</td>\n",
       "      <td>-79.381752</td>\n",
       "    </tr>\n",
       "    <tr>\n",
       "      <th>4</th>\n",
       "      <td>1</td>\n",
       "      <td>M5R</td>\n",
       "      <td>Central Toronto</td>\n",
       "      <td>The Annex, North Midtown, Yorkville</td>\n",
       "      <td>4ad4c061f964a52099f720e3</td>\n",
       "      <td>Live Organic Food Bar</td>\n",
       "      <td>43.672710</td>\n",
       "      <td>-79.405678</td>\n",
       "    </tr>\n",
       "    <tr>\n",
       "      <th>5</th>\n",
       "      <td>1</td>\n",
       "      <td>M5T</td>\n",
       "      <td>Downtown Toronto</td>\n",
       "      <td>Chinatown, Grange Park, Kensington Market</td>\n",
       "      <td>4b2d2ab2f964a52007d024e3</td>\n",
       "      <td>Hibiscus</td>\n",
       "      <td>43.653206</td>\n",
       "      <td>-79.400049</td>\n",
       "    </tr>\n",
       "    <tr>\n",
       "      <th>6</th>\n",
       "      <td>1</td>\n",
       "      <td>M5T</td>\n",
       "      <td>Downtown Toronto</td>\n",
       "      <td>Chinatown, Grange Park, Kensington Market</td>\n",
       "      <td>4ae4e982f964a5205d9f21e3</td>\n",
       "      <td>Buddha's Vegetarian</td>\n",
       "      <td>43.653206</td>\n",
       "      <td>-79.400049</td>\n",
       "    </tr>\n",
       "    <tr>\n",
       "      <th>7</th>\n",
       "      <td>1</td>\n",
       "      <td>M5T</td>\n",
       "      <td>Downtown Toronto</td>\n",
       "      <td>Chinatown, Grange Park, Kensington Market</td>\n",
       "      <td>4ad7e7acf964a520f40f21e3</td>\n",
       "      <td>Urban Herbivore</td>\n",
       "      <td>43.653206</td>\n",
       "      <td>-79.400049</td>\n",
       "    </tr>\n",
       "    <tr>\n",
       "      <th>8</th>\n",
       "      <td>0</td>\n",
       "      <td>M5W</td>\n",
       "      <td>Downtown Toronto</td>\n",
       "      <td>Stn A PO Boxes 25 The Esplanade</td>\n",
       "      <td>5b5bca904aa3f8002c97f85d</td>\n",
       "      <td>Fresh On Front</td>\n",
       "      <td>43.646435</td>\n",
       "      <td>-79.374846</td>\n",
       "    </tr>\n",
       "    <tr>\n",
       "      <th>9</th>\n",
       "      <td>0</td>\n",
       "      <td>M5X</td>\n",
       "      <td>Downtown Toronto</td>\n",
       "      <td>First Canadian Place, Underground city</td>\n",
       "      <td>5aff06ca6e4650002cc6286b</td>\n",
       "      <td>Rosalinda</td>\n",
       "      <td>43.648429</td>\n",
       "      <td>-79.382280</td>\n",
       "    </tr>\n",
       "    <tr>\n",
       "      <th>10</th>\n",
       "      <td>2</td>\n",
       "      <td>M6J</td>\n",
       "      <td>West Toronto</td>\n",
       "      <td>Little Portugal, Trinity</td>\n",
       "      <td>52f652a5498ec43f09d514c4</td>\n",
       "      <td>The Goods</td>\n",
       "      <td>43.647927</td>\n",
       "      <td>-79.419750</td>\n",
       "    </tr>\n",
       "    <tr>\n",
       "      <th>11</th>\n",
       "      <td>1</td>\n",
       "      <td>M7A</td>\n",
       "      <td>Downtown Toronto</td>\n",
       "      <td>Queen's Park</td>\n",
       "      <td>540e1fa1498e9b339bc79212</td>\n",
       "      <td>The Green Beet Cafe</td>\n",
       "      <td>43.662301</td>\n",
       "      <td>-79.389494</td>\n",
       "    </tr>\n",
       "  </tbody>\n",
       "</table>\n",
       "</div>"
      ],
      "text/plain": [
       "    Cluster Labels Postcode           Borough  \\\n",
       "0                0      M5E  Downtown Toronto   \n",
       "1                0      M5H  Downtown Toronto   \n",
       "2                0      M5H  Downtown Toronto   \n",
       "3                0      M5J  Downtown Toronto   \n",
       "4                1      M5R   Central Toronto   \n",
       "5                1      M5T  Downtown Toronto   \n",
       "6                1      M5T  Downtown Toronto   \n",
       "7                1      M5T  Downtown Toronto   \n",
       "8                0      M5W  Downtown Toronto   \n",
       "9                0      M5X  Downtown Toronto   \n",
       "10               2      M6J      West Toronto   \n",
       "11               1      M7A  Downtown Toronto   \n",
       "\n",
       "                                        Neighbourhood  \\\n",
       "0                                         Berczy Park   \n",
       "1                            Adelaide, King, Richmond   \n",
       "2                            Adelaide, King, Richmond   \n",
       "3   Harbourfront East, Toronto Islands, Union Station   \n",
       "4                 The Annex, North Midtown, Yorkville   \n",
       "5           Chinatown, Grange Park, Kensington Market   \n",
       "6           Chinatown, Grange Park, Kensington Market   \n",
       "7           Chinatown, Grange Park, Kensington Market   \n",
       "8                     Stn A PO Boxes 25 The Esplanade   \n",
       "9              First Canadian Place, Underground city   \n",
       "10                           Little Portugal, Trinity   \n",
       "11                                       Queen's Park   \n",
       "\n",
       "                          ID                   Name   Latitude  Longitude  \n",
       "0   5b5bca904aa3f8002c97f85d         Fresh On Front  43.644771 -79.373306  \n",
       "1   5aff06ca6e4650002cc6286b              Rosalinda  43.650571 -79.384568  \n",
       "2   5c9d602f25fb7b002c79b669           Planta Queen  43.650571 -79.384568  \n",
       "3   5481b06c498ee191fa045a00          Kupfert & Kim  43.640816 -79.381752  \n",
       "4   4ad4c061f964a52099f720e3  Live Organic Food Bar  43.672710 -79.405678  \n",
       "5   4b2d2ab2f964a52007d024e3               Hibiscus  43.653206 -79.400049  \n",
       "6   4ae4e982f964a5205d9f21e3    Buddha's Vegetarian  43.653206 -79.400049  \n",
       "7   4ad7e7acf964a520f40f21e3        Urban Herbivore  43.653206 -79.400049  \n",
       "8   5b5bca904aa3f8002c97f85d         Fresh On Front  43.646435 -79.374846  \n",
       "9   5aff06ca6e4650002cc6286b              Rosalinda  43.648429 -79.382280  \n",
       "10  52f652a5498ec43f09d514c4              The Goods  43.647927 -79.419750  \n",
       "11  540e1fa1498e9b339bc79212    The Green Beet Cafe  43.662301 -79.389494  "
      ]
     },
     "execution_count": 88,
     "metadata": {},
     "output_type": "execute_result"
    }
   ],
   "source": [
    "#del df_veg_rest['Cluster Labels']\n",
    "clusterNum = 3\n",
    "veg_rest_clustering = df_veg_rest.drop(['Postcode','Borough','Neighbourhood', 'ID','Name'],1)\n",
    "k_means_rest = KMeans(init = \"k-means++\", n_clusters = clusterNum, n_init = 12).fit(veg_rest_clustering)\n",
    "#kmeans = KMeans(n_clusters = k,random_state=0).fit(veg_rest_clustering)\n",
    "k_means_rest.labels_\n",
    "df_veg_rest.insert(0, 'Cluster Labels', k_means_rest.labels_)\n",
    "df_veg_rest"
   ]
  },
  {
   "cell_type": "markdown",
   "metadata": {},
   "source": [
    "#### Visualize the number of Borough corresponding to different cluster Labels using Folium."
   ]
  },
  {
   "cell_type": "code",
   "execution_count": 89,
   "metadata": {},
   "outputs": [
    {
     "data": {
      "text/html": [
       "<div style=\"width:100%;\"><div style=\"position:relative;width:100%;height:0;padding-bottom:60%;\"><iframe src=\"about:blank\" style=\"position:absolute;width:100%;height:100%;left:0;top:0;border:none !important;\" data-html=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 onload=\"this.contentDocument.open();this.contentDocument.write(atob(this.getAttribute('data-html')));this.contentDocument.close();\" allowfullscreen webkitallowfullscreen mozallowfullscreen></iframe></div></div>"
      ],
      "text/plain": [
       "<folium.folium.Map at 0x1db19faa1d0>"
      ]
     },
     "execution_count": 89,
     "metadata": {},
     "output_type": "execute_result"
    }
   ],
   "source": [
    "# create map\n",
    "incidents = folium.map.FeatureGroup()\n",
    "map_clusters = folium.Map(location=[43.651070,-79.347015],zoom_start=10)\n",
    "\n",
    "# set color scheme for the clusters\n",
    "x = np.arange(k)\n",
    "ys = [i + x + (i*x)**2 for i in range(k)]\n",
    "colors_array = cm.rainbow(np.linspace(0, 1, len(ys)))\n",
    "rainbow = [colors.rgb2hex(i) for i in colors_array]\n",
    "\n",
    "# add markers to the map\n",
    "markers_colors = []\n",
    "for lat, lon, neighbourhood, cluster in zip(df_veg_rest['Latitude'], df_veg_rest['Longitude'], df_veg_rest['Neighbourhood'], df_veg_rest['Cluster Labels']):\n",
    "    label = folium.Popup(' Cluster ' + str(cluster), parse_html=True)\n",
    "    folium.CircleMarker(\n",
    "        [lat, lon],\n",
    "        radius=5,\n",
    "        popup=label,\n",
    "        color=rainbow[cluster-1],\n",
    "        fill=True,\n",
    "        fill_color=rainbow[cluster-1],\n",
    "        fill_opacity=0.7).add_to(map_clusters)\n",
    "       \n",
    "map_clusters"
   ]
  },
  {
   "cell_type": "markdown",
   "metadata": {},
   "source": [
    "#### Find the number of Borough corresponding to different cluster Labels."
   ]
  },
  {
   "cell_type": "markdown",
   "metadata": {},
   "source": [
    "### Step 8: K-Means Clustering: Cluster Juice Bars "
   ]
  },
  {
   "cell_type": "code",
   "execution_count": 115,
   "metadata": {},
   "outputs": [
    {
     "data": {
      "text/html": [
       "<div>\n",
       "<style scoped>\n",
       "    .dataframe tbody tr th:only-of-type {\n",
       "        vertical-align: middle;\n",
       "    }\n",
       "\n",
       "    .dataframe tbody tr th {\n",
       "        vertical-align: top;\n",
       "    }\n",
       "\n",
       "    .dataframe thead th {\n",
       "        text-align: right;\n",
       "    }\n",
       "</style>\n",
       "<table border=\"1\" class=\"dataframe\">\n",
       "  <thead>\n",
       "    <tr style=\"text-align: right;\">\n",
       "      <th></th>\n",
       "      <th>Cluster Labels</th>\n",
       "      <th>Postcode</th>\n",
       "      <th>Borough</th>\n",
       "      <th>Neighbourhood</th>\n",
       "      <th>ID</th>\n",
       "      <th>Name</th>\n",
       "      <th>Latitude</th>\n",
       "      <th>Longitude</th>\n",
       "    </tr>\n",
       "  </thead>\n",
       "  <tbody>\n",
       "    <tr>\n",
       "      <th>0</th>\n",
       "      <td>2</td>\n",
       "      <td>M4K</td>\n",
       "      <td>East Toronto</td>\n",
       "      <td>The Danforth West, Riverdale</td>\n",
       "      <td>4bd1db4e046076b0f1a57271</td>\n",
       "      <td>The Big Carrot Organic Juice Bar</td>\n",
       "      <td>43.679557</td>\n",
       "      <td>-79.352188</td>\n",
       "    </tr>\n",
       "    <tr>\n",
       "      <th>1</th>\n",
       "      <td>0</td>\n",
       "      <td>M4Y</td>\n",
       "      <td>Downtown Toronto</td>\n",
       "      <td>Church and Wellesley</td>\n",
       "      <td>50c20a89e4b02803a189384b</td>\n",
       "      <td>FUEL+</td>\n",
       "      <td>43.665860</td>\n",
       "      <td>-79.383160</td>\n",
       "    </tr>\n",
       "    <tr>\n",
       "      <th>2</th>\n",
       "      <td>0</td>\n",
       "      <td>M5B</td>\n",
       "      <td>Downtown Toronto</td>\n",
       "      <td>Ryerson, Garden District</td>\n",
       "      <td>4bdf1c4bffdec92826c0eaa1</td>\n",
       "      <td>Booster Juice</td>\n",
       "      <td>43.657162</td>\n",
       "      <td>-79.378937</td>\n",
       "    </tr>\n",
       "    <tr>\n",
       "      <th>3</th>\n",
       "      <td>0</td>\n",
       "      <td>M5G</td>\n",
       "      <td>Downtown Toronto</td>\n",
       "      <td>Central Bay Street</td>\n",
       "      <td>4b9a73ecf964a5209db635e3</td>\n",
       "      <td>Booster Juice</td>\n",
       "      <td>43.657952</td>\n",
       "      <td>-79.387383</td>\n",
       "    </tr>\n",
       "    <tr>\n",
       "      <th>4</th>\n",
       "      <td>0</td>\n",
       "      <td>M5G</td>\n",
       "      <td>Downtown Toronto</td>\n",
       "      <td>Central Bay Street</td>\n",
       "      <td>5beccbec2b274a002c3ef499</td>\n",
       "      <td>Booster Juice</td>\n",
       "      <td>43.657952</td>\n",
       "      <td>-79.387383</td>\n",
       "    </tr>\n",
       "    <tr>\n",
       "      <th>5</th>\n",
       "      <td>0</td>\n",
       "      <td>M5H</td>\n",
       "      <td>Downtown Toronto</td>\n",
       "      <td>Adelaide, King, Richmond</td>\n",
       "      <td>5548cfb6498ec3e4bdfde59a</td>\n",
       "      <td>Daily Press Juicery</td>\n",
       "      <td>43.650571</td>\n",
       "      <td>-79.384568</td>\n",
       "    </tr>\n",
       "    <tr>\n",
       "      <th>6</th>\n",
       "      <td>0</td>\n",
       "      <td>M5H</td>\n",
       "      <td>Downtown Toronto</td>\n",
       "      <td>Adelaide, King, Richmond</td>\n",
       "      <td>4dcd355452b1f8915b7710e8</td>\n",
       "      <td>Booster Juice</td>\n",
       "      <td>43.650571</td>\n",
       "      <td>-79.384568</td>\n",
       "    </tr>\n",
       "    <tr>\n",
       "      <th>7</th>\n",
       "      <td>0</td>\n",
       "      <td>M5J</td>\n",
       "      <td>Downtown Toronto</td>\n",
       "      <td>Harbourfront East, Toronto Islands, Union Station</td>\n",
       "      <td>4bbcd229593fef3b77ab0256</td>\n",
       "      <td>Booster Juice</td>\n",
       "      <td>43.640816</td>\n",
       "      <td>-79.381752</td>\n",
       "    </tr>\n",
       "    <tr>\n",
       "      <th>8</th>\n",
       "      <td>0</td>\n",
       "      <td>M5K</td>\n",
       "      <td>Downtown Toronto</td>\n",
       "      <td>Design Exchange, Toronto Dominion Centre</td>\n",
       "      <td>4dcd355452b1f8915b7710e8</td>\n",
       "      <td>Booster Juice</td>\n",
       "      <td>43.647177</td>\n",
       "      <td>-79.381576</td>\n",
       "    </tr>\n",
       "    <tr>\n",
       "      <th>9</th>\n",
       "      <td>1</td>\n",
       "      <td>M6S</td>\n",
       "      <td>West Toronto</td>\n",
       "      <td>Runnymede, Swansea</td>\n",
       "      <td>4b3a379bf964a520696225e3</td>\n",
       "      <td>Booster Juice</td>\n",
       "      <td>43.651571</td>\n",
       "      <td>-79.484450</td>\n",
       "    </tr>\n",
       "  </tbody>\n",
       "</table>\n",
       "</div>"
      ],
      "text/plain": [
       "   Cluster Labels Postcode           Borough  \\\n",
       "0               2      M4K      East Toronto   \n",
       "1               0      M4Y  Downtown Toronto   \n",
       "2               0      M5B  Downtown Toronto   \n",
       "3               0      M5G  Downtown Toronto   \n",
       "4               0      M5G  Downtown Toronto   \n",
       "5               0      M5H  Downtown Toronto   \n",
       "6               0      M5H  Downtown Toronto   \n",
       "7               0      M5J  Downtown Toronto   \n",
       "8               0      M5K  Downtown Toronto   \n",
       "9               1      M6S      West Toronto   \n",
       "\n",
       "                                       Neighbourhood  \\\n",
       "0                       The Danforth West, Riverdale   \n",
       "1                               Church and Wellesley   \n",
       "2                           Ryerson, Garden District   \n",
       "3                                 Central Bay Street   \n",
       "4                                 Central Bay Street   \n",
       "5                           Adelaide, King, Richmond   \n",
       "6                           Adelaide, King, Richmond   \n",
       "7  Harbourfront East, Toronto Islands, Union Station   \n",
       "8           Design Exchange, Toronto Dominion Centre   \n",
       "9                                 Runnymede, Swansea   \n",
       "\n",
       "                         ID                              Name   Latitude  \\\n",
       "0  4bd1db4e046076b0f1a57271  The Big Carrot Organic Juice Bar  43.679557   \n",
       "1  50c20a89e4b02803a189384b                             FUEL+  43.665860   \n",
       "2  4bdf1c4bffdec92826c0eaa1                     Booster Juice  43.657162   \n",
       "3  4b9a73ecf964a5209db635e3                     Booster Juice  43.657952   \n",
       "4  5beccbec2b274a002c3ef499                     Booster Juice  43.657952   \n",
       "5  5548cfb6498ec3e4bdfde59a               Daily Press Juicery  43.650571   \n",
       "6  4dcd355452b1f8915b7710e8                     Booster Juice  43.650571   \n",
       "7  4bbcd229593fef3b77ab0256                     Booster Juice  43.640816   \n",
       "8  4dcd355452b1f8915b7710e8                     Booster Juice  43.647177   \n",
       "9  4b3a379bf964a520696225e3                     Booster Juice  43.651571   \n",
       "\n",
       "   Longitude  \n",
       "0 -79.352188  \n",
       "1 -79.383160  \n",
       "2 -79.378937  \n",
       "3 -79.387383  \n",
       "4 -79.387383  \n",
       "5 -79.384568  \n",
       "6 -79.384568  \n",
       "7 -79.381752  \n",
       "8 -79.381576  \n",
       "9 -79.484450  "
      ]
     },
     "execution_count": 115,
     "metadata": {},
     "output_type": "execute_result"
    }
   ],
   "source": [
    "#del df_juice_bar['Cluster Labels']\n",
    "clusterNum=3\n",
    "juice_clustering = df_juice_bar.drop(['Postcode','Borough','Neighbourhood', 'ID','Name'],1)\n",
    "#kmeans = KMeans(n_clusters = k,random_state=0).fit(juice_clustering)\n",
    "k_means_juice = KMeans(init = \"k-means++\", n_clusters = clusterNum, n_init = 12).fit(juice_clustering)\n",
    "k_means_juice.labels_\n",
    "df_juice_bar.insert(0, 'Cluster Labels', k_means_juice.labels_)\n",
    "df_juice_bar"
   ]
  },
  {
   "cell_type": "markdown",
   "metadata": {},
   "source": [
    "#### Visualize the number of Borough corresponding to different cluster Labels using Folium."
   ]
  },
  {
   "cell_type": "code",
   "execution_count": 112,
   "metadata": {},
   "outputs": [
    {
     "data": {
      "text/html": [
       "<div style=\"width:100%;\"><div style=\"position:relative;width:100%;height:0;padding-bottom:60%;\"><iframe src=\"about:blank\" style=\"position:absolute;width:100%;height:100%;left:0;top:0;border:none !important;\" data-html=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 onload=\"this.contentDocument.open();this.contentDocument.write(atob(this.getAttribute('data-html')));this.contentDocument.close();\" allowfullscreen webkitallowfullscreen mozallowfullscreen></iframe></div></div>"
      ],
      "text/plain": [
       "<folium.folium.Map at 0x1db18a23208>"
      ]
     },
     "execution_count": 112,
     "metadata": {},
     "output_type": "execute_result"
    }
   ],
   "source": [
    "# create map\n",
    "incidents = folium.map.FeatureGroup()\n",
    "map_clusters = folium.Map(location=[43.651070,-79.347015],zoom_start=10)\n",
    "\n",
    "# set color scheme for the clusters\n",
    "x = np.arange(k)\n",
    "ys = [i + x + (i*x)**2 for i in range(k)]\n",
    "colors_array = cm.rainbow(np.linspace(0, 1, len(ys)))\n",
    "rainbow = [colors.rgb2hex(i) for i in colors_array]\n",
    "\n",
    "# add markers to the map\n",
    "markers_colors = []\n",
    "for lat, lon, neighbourhood, cluster in zip(df_juice_bar['Latitude'], df_juice_bar['Longitude'], df_juice_bar['Neighbourhood'], df_juice_bar['Cluster Labels']):\n",
    "    label = folium.Popup(' Cluster ' + str(cluster), parse_html=True)\n",
    "    folium.CircleMarker(\n",
    "        [lat, lon],\n",
    "        radius=5,\n",
    "        popup=label,\n",
    "        color=rainbow[cluster-1],\n",
    "        fill=True,\n",
    "        fill_color=rainbow[cluster-1],\n",
    "        fill_opacity=0.7).add_to(map_clusters)\n",
    "       \n",
    "map_clusters\n"
   ]
  },
  {
   "cell_type": "markdown",
   "metadata": {},
   "source": [
    "# Section 5: Results \n",
    "\n",
    "We analyzed the results obtained from Vegetarian/ vegan Restaurants and found the number of Borough corresponding to different cluster Labels.\n",
    "\n",
    "### Vegetarian/ vegan Restaurants"
   ]
  },
  {
   "cell_type": "code",
   "execution_count": 117,
   "metadata": {},
   "outputs": [
    {
     "data": {
      "text/html": [
       "<div>\n",
       "<style scoped>\n",
       "    .dataframe tbody tr th:only-of-type {\n",
       "        vertical-align: middle;\n",
       "    }\n",
       "\n",
       "    .dataframe tbody tr th {\n",
       "        vertical-align: top;\n",
       "    }\n",
       "\n",
       "    .dataframe thead th {\n",
       "        text-align: right;\n",
       "    }\n",
       "</style>\n",
       "<table border=\"1\" class=\"dataframe\">\n",
       "  <thead>\n",
       "    <tr style=\"text-align: right;\">\n",
       "      <th></th>\n",
       "      <th>Cluster Labels</th>\n",
       "      <th>Borough</th>\n",
       "    </tr>\n",
       "  </thead>\n",
       "  <tbody>\n",
       "    <tr>\n",
       "      <th>0</th>\n",
       "      <td>0</td>\n",
       "      <td>6</td>\n",
       "    </tr>\n",
       "    <tr>\n",
       "      <th>1</th>\n",
       "      <td>1</td>\n",
       "      <td>5</td>\n",
       "    </tr>\n",
       "    <tr>\n",
       "      <th>2</th>\n",
       "      <td>2</td>\n",
       "      <td>1</td>\n",
       "    </tr>\n",
       "  </tbody>\n",
       "</table>\n",
       "</div>"
      ],
      "text/plain": [
       "   Cluster Labels  Borough\n",
       "0               0        6\n",
       "1               1        5\n",
       "2               2        1"
      ]
     },
     "execution_count": 117,
     "metadata": {},
     "output_type": "execute_result"
    }
   ],
   "source": [
    "df_veg_rest_cl_group=df_veg_rest.groupby('Cluster Labels')['Borough'].count()\n",
    "df_veg_rest_cl=df_veg_rest_cl_group.to_frame().reset_index()\n",
    "df_veg_rest_cl"
   ]
  },
  {
   "cell_type": "markdown",
   "metadata": {},
   "source": [
    "#### Find the  Borough  that corresponds to maximum cluster Labels."
   ]
  },
  {
   "cell_type": "code",
   "execution_count": 127,
   "metadata": {},
   "outputs": [
    {
     "data": {
      "text/plain": [
       "Cluster Labels\n",
       "0    Downtown Toronto\n",
       "1    Downtown Toronto\n",
       "2        West Toronto\n",
       "Name: Borough, dtype: object"
      ]
     },
     "execution_count": 127,
     "metadata": {},
     "output_type": "execute_result"
    }
   ],
   "source": [
    "df_veg_rest.groupby('Cluster Labels')['Borough'].max()"
   ]
  },
  {
   "cell_type": "markdown",
   "metadata": {},
   "source": [
    "#### Find the mean  coordinates corresponding to cluster Labels."
   ]
  },
  {
   "cell_type": "code",
   "execution_count": 105,
   "metadata": {},
   "outputs": [
    {
     "data": {
      "text/html": [
       "<div>\n",
       "<style scoped>\n",
       "    .dataframe tbody tr th:only-of-type {\n",
       "        vertical-align: middle;\n",
       "    }\n",
       "\n",
       "    .dataframe tbody tr th {\n",
       "        vertical-align: top;\n",
       "    }\n",
       "\n",
       "    .dataframe thead th {\n",
       "        text-align: right;\n",
       "    }\n",
       "</style>\n",
       "<table border=\"1\" class=\"dataframe\">\n",
       "  <thead>\n",
       "    <tr style=\"text-align: right;\">\n",
       "      <th></th>\n",
       "      <th>Latitude</th>\n",
       "      <th>Longitude</th>\n",
       "    </tr>\n",
       "    <tr>\n",
       "      <th>Cluster Labels</th>\n",
       "      <th></th>\n",
       "      <th></th>\n",
       "    </tr>\n",
       "  </thead>\n",
       "  <tbody>\n",
       "    <tr>\n",
       "      <th>0</th>\n",
       "      <td>43.646932</td>\n",
       "      <td>-79.380220</td>\n",
       "    </tr>\n",
       "    <tr>\n",
       "      <th>1</th>\n",
       "      <td>43.658926</td>\n",
       "      <td>-79.399064</td>\n",
       "    </tr>\n",
       "    <tr>\n",
       "      <th>2</th>\n",
       "      <td>43.647927</td>\n",
       "      <td>-79.419750</td>\n",
       "    </tr>\n",
       "  </tbody>\n",
       "</table>\n",
       "</div>"
      ],
      "text/plain": [
       "                 Latitude  Longitude\n",
       "Cluster Labels                      \n",
       "0               43.646932 -79.380220\n",
       "1               43.658926 -79.399064\n",
       "2               43.647927 -79.419750"
      ]
     },
     "execution_count": 105,
     "metadata": {},
     "output_type": "execute_result"
    }
   ],
   "source": [
    "df_veg_rest.groupby('Cluster Labels').mean()"
   ]
  },
  {
   "cell_type": "markdown",
   "metadata": {},
   "source": [
    "__Findings__\n",
    "Based on the vegetarian restaurants, the best location to open Fruits and Vegeatable Stores is Downtown Toronto with latitude and longitude: (43.646932,-79.380220) "
   ]
  },
  {
   "cell_type": "markdown",
   "metadata": {},
   "source": [
    "### Juice Bars\n",
    "#### Find the number of Borough corresponding to different cluster Labels."
   ]
  },
  {
   "cell_type": "code",
   "execution_count": 116,
   "metadata": {},
   "outputs": [
    {
     "data": {
      "text/html": [
       "<div>\n",
       "<style scoped>\n",
       "    .dataframe tbody tr th:only-of-type {\n",
       "        vertical-align: middle;\n",
       "    }\n",
       "\n",
       "    .dataframe tbody tr th {\n",
       "        vertical-align: top;\n",
       "    }\n",
       "\n",
       "    .dataframe thead th {\n",
       "        text-align: right;\n",
       "    }\n",
       "</style>\n",
       "<table border=\"1\" class=\"dataframe\">\n",
       "  <thead>\n",
       "    <tr style=\"text-align: right;\">\n",
       "      <th></th>\n",
       "      <th>Cluster Labels</th>\n",
       "      <th>ID</th>\n",
       "    </tr>\n",
       "  </thead>\n",
       "  <tbody>\n",
       "    <tr>\n",
       "      <th>0</th>\n",
       "      <td>0</td>\n",
       "      <td>8</td>\n",
       "    </tr>\n",
       "    <tr>\n",
       "      <th>1</th>\n",
       "      <td>1</td>\n",
       "      <td>1</td>\n",
       "    </tr>\n",
       "    <tr>\n",
       "      <th>2</th>\n",
       "      <td>2</td>\n",
       "      <td>1</td>\n",
       "    </tr>\n",
       "  </tbody>\n",
       "</table>\n",
       "</div>"
      ],
      "text/plain": [
       "   Cluster Labels  ID\n",
       "0               0   8\n",
       "1               1   1\n",
       "2               2   1"
      ]
     },
     "execution_count": 116,
     "metadata": {},
     "output_type": "execute_result"
    }
   ],
   "source": [
    "df_juice_bar_cl_group=df_juice_bar.groupby('Cluster Labels')['ID'].count()\n",
    "df_juice_bar_cl=df_juice_bar_cl_group.to_frame().reset_index()\n",
    "df_juice_bar_cl"
   ]
  },
  {
   "cell_type": "markdown",
   "metadata": {},
   "source": [
    "#### Find the  Borough  that corresponds to maximum cluster Labels."
   ]
  },
  {
   "cell_type": "code",
   "execution_count": 120,
   "metadata": {},
   "outputs": [
    {
     "data": {
      "text/plain": [
       "Cluster Labels\n",
       "0    Downtown Toronto\n",
       "1        West Toronto\n",
       "2        East Toronto\n",
       "Name: Borough, dtype: object"
      ]
     },
     "execution_count": 120,
     "metadata": {},
     "output_type": "execute_result"
    }
   ],
   "source": [
    "df_juice_bar.groupby('Cluster Labels')['Borough'].max()"
   ]
  },
  {
   "cell_type": "markdown",
   "metadata": {},
   "source": [
    "#### Find the mean  cordinates corresponding to cluster Labels."
   ]
  },
  {
   "cell_type": "code",
   "execution_count": 107,
   "metadata": {},
   "outputs": [
    {
     "data": {
      "text/html": [
       "<div>\n",
       "<style scoped>\n",
       "    .dataframe tbody tr th:only-of-type {\n",
       "        vertical-align: middle;\n",
       "    }\n",
       "\n",
       "    .dataframe tbody tr th {\n",
       "        vertical-align: top;\n",
       "    }\n",
       "\n",
       "    .dataframe thead th {\n",
       "        text-align: right;\n",
       "    }\n",
       "</style>\n",
       "<table border=\"1\" class=\"dataframe\">\n",
       "  <thead>\n",
       "    <tr style=\"text-align: right;\">\n",
       "      <th></th>\n",
       "      <th>Latitude</th>\n",
       "      <th>Longitude</th>\n",
       "    </tr>\n",
       "    <tr>\n",
       "      <th>Cluster Labels</th>\n",
       "      <th></th>\n",
       "      <th></th>\n",
       "    </tr>\n",
       "  </thead>\n",
       "  <tbody>\n",
       "    <tr>\n",
       "      <th>0</th>\n",
       "      <td>43.651571</td>\n",
       "      <td>-79.484450</td>\n",
       "    </tr>\n",
       "    <tr>\n",
       "      <th>1</th>\n",
       "      <td>43.653508</td>\n",
       "      <td>-79.383666</td>\n",
       "    </tr>\n",
       "    <tr>\n",
       "      <th>2</th>\n",
       "      <td>43.679557</td>\n",
       "      <td>-79.352188</td>\n",
       "    </tr>\n",
       "  </tbody>\n",
       "</table>\n",
       "</div>"
      ],
      "text/plain": [
       "                 Latitude  Longitude\n",
       "Cluster Labels                      \n",
       "0               43.651571 -79.484450\n",
       "1               43.653508 -79.383666\n",
       "2               43.679557 -79.352188"
      ]
     },
     "execution_count": 107,
     "metadata": {},
     "output_type": "execute_result"
    }
   ],
   "source": [
    "df_juice_bar.groupby('Cluster Labels').mean()"
   ]
  },
  {
   "cell_type": "markdown",
   "metadata": {},
   "source": [
    "__Findings__: Based on the Juice Bars, the best location to open Fruits and Vegeatable Stores is \n",
    "\n",
    "  Downtown Toronto with latitude and longitude: (43.651571, -79.484450)"
   ]
  },
  {
   "cell_type": "markdown",
   "metadata": {},
   "source": [
    "# Section 6: Discussion\n",
    "\n",
    "\n",
    "Based on our exploratory data analysis results and k-means clustering algorithm: We have seen that in both the cases, i.e., for vegeatarian/ vegan restaurants and Juice Bars:  Downtown Toronto is the best option to open Fruits and Vegetable Stores.\n",
    "We can say that the best place to open the Store can be chosen based on the centroid location of Vegetarian /Vegan Restaurant or on the basis of Juice Bar centroid.\n",
    "\n",
    "\n",
    "\n",
    "\n"
   ]
  },
  {
   "cell_type": "markdown",
   "metadata": {},
   "source": [
    "# Section 7: Conclusion\n",
    "\n",
    "We have seen, that in both the cases, i.e., for vegetarian/ vegan  restaurants and Juice Bars:\n",
    "Downtown Toronto is the best option to open Fruits and Vegeatable  Stores.\n",
    "\n",
    "\n",
    "\n",
    "Here, we have analyzed two prospects namely Vegetarian/ Vegan Restaurants but it can be explored further\n",
    "based on Logistics such as Airport and Boat and Ferry venues.\n"
   ]
  }
 ],
 "metadata": {
  "kernelspec": {
   "display_name": "Python 3",
   "language": "python",
   "name": "python3"
  },
  "language_info": {
   "codemirror_mode": {
    "name": "ipython",
    "version": 3
   },
   "file_extension": ".py",
   "mimetype": "text/x-python",
   "name": "python",
   "nbconvert_exporter": "python",
   "pygments_lexer": "ipython3",
   "version": "3.7.3"
  }
 },
 "nbformat": 4,
 "nbformat_minor": 4
}
