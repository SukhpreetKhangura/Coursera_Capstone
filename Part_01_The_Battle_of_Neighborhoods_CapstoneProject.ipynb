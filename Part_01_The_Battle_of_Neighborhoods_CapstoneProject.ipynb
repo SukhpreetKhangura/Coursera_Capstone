{
 "cells": [
  {
   "cell_type": "markdown",
   "metadata": {},
   "source": [
    "# Final Capstone Project\n",
    "\n",
    "## Introduction\n",
    "\n",
    "\n",
    "Vegetarians and vegans now account for nearly 10 per cent of Canada’s population, and their increased presence is forcing the restaurant and meat production industries to consider new approaches. \n",
    "\n",
    "According to research from Dalhousie University, there are 2.3 million vegetarians in Canada, up from 900,000 15 years ago. Another 850,000 people consider themselves vegan. Those two numbers add up to 9.4 per cent of the Canadian population. The intrested readers could refer to the link below:\n",
    "\n",
    "https://www.ctvnews.ca/canada/more-than-3-million-canadians-vegetarian-or-vegan-study-1.4027606\n",
    "\n",
    "\n",
    "Since the most populated city in Canada is Toronto. It is home to 5,429,524 people. Toronto is the capital of Ontario and located in the east-central region of the country. Nearly half of the population is made up of foreign-born residents. After Miami in the US, this is the second largest percentage of foreign-born residents in the world. Interestingly, no nationality holds the dominant position, making Toronto the most diverse city in the world. Therefore we are going to explore Toronto \n",
    "for our business prospects. The intrested readers could refer to the link below:\n",
    "\n",
    "https://www.worldatlas.com/articles/biggest-cities-in-canada.html"
   ]
  },
  {
   "cell_type": "markdown",
   "metadata": {},
   "source": [
    "## Business Problem and Interested Community\n",
    "\n",
    "With increasing number of people turing vegetarian and vegan, there is a good scope \n",
    "of opening the Vegetarian/Vegan Restaurant. Based on this we define the following:\n",
    "\n",
    "__Problem__: The aim of this project is to explore the possibility of opening Vegetarian/Vegan \n",
    "Restaurants in Canada. \n",
    "\n",
    "__Interested Community__: Food Business Industry\n",
    "\n",
    "1. The results of this project could be of interest to the investors \n",
    "    who wants to invest in a Food Business.      \n",
    "    \n",
    "2. Since the vegetarian/veagn restaurants would provide good retail opportunities for Fruit &    Vegetable Store. Therefore, the results could be of interest to the investors who wants to invest in these stores . "
   ]
  }
 ],
 "metadata": {
  "kernelspec": {
   "display_name": "Python 3",
   "language": "python",
   "name": "python3"
  },
  "language_info": {
   "codemirror_mode": {
    "name": "ipython",
    "version": 3
   },
   "file_extension": ".py",
   "mimetype": "text/x-python",
   "name": "python",
   "nbconvert_exporter": "python",
   "pygments_lexer": "ipython3",
   "version": "3.7.3"
  }
 },
 "nbformat": 4,
 "nbformat_minor": 4
}
